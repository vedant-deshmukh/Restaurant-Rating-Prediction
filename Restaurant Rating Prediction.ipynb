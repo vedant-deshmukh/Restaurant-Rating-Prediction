{
 "cells": [
  {
   "cell_type": "markdown",
   "id": "demonstrated-browse",
   "metadata": {},
   "source": [
    "<center><h1>Restaurant Rating Prediction</h1></center>"
   ]
  },
  {
   "cell_type": "markdown",
   "id": "cooperative-wellington",
   "metadata": {},
   "source": [
    "<p><strong>Problem Statement : </strong>Given is a dataset containing the data about orders placed on zomato for the restaurants in Banglore. We have to predict the overall rating of the restaurant based on various factors.</p>"
   ]
  },
  {
   "cell_type": "markdown",
   "id": "65dfd2de",
   "metadata": {},
   "source": [
    "## Column Description"
   ]
  },
  {
   "cell_type": "markdown",
   "id": "a22f8698",
   "metadata": {},
   "source": [
    "<ul>\n",
    "<li>url: contains the url of the restaurant in the zomato website\n",
    "\n",
    "<li>address: contains the address of the restaurant in Bengaluru\n",
    "\n",
    "<li>name: contains the name of the restaurant\n",
    "\n",
    "<li>online_order: whether online ordering is available in the restaurant or not\n",
    "\n",
    "<li>book_table: table book option available or not\n",
    "\n",
    "<li>rate: contains the overall rating of the restaurant out of 5\n",
    "\n",
    "<li>votes: contains total number of rating for the restaurant as of the above mentioned date\n",
    "\n",
    "<li>phone: contains the phone number of the restaurant\n",
    "\n",
    "<li>location: contains the neighborhood in which the restaurant is located\n",
    "\n",
    "<li>rest_type: restaurant type\n",
    "\n",
    "<li>dish_liked: dishes people liked in the restaurant\n",
    "\n",
    "<li>cuisines: food styles, separated by comma\n",
    "\n",
    "<li>approx_cost(for two people): contains the approximate cost for meal for two people\n",
    "\n",
    "<li>reviews_list: list of tuples containing reviews for the restaurant, each tuple\n",
    "\n",
    "<li>menu_item: contains list of menus available in the restaurant\n",
    "\n",
    "<li>listed_in(type): type of meal\n",
    "\n",
    "<li>listed_in(city): contains the neighborhood in which the restaurant is listed\n",
    "    </ul>"
   ]
  },
  {
   "cell_type": "markdown",
   "id": "impaired-maine",
   "metadata": {},
   "source": [
    "## Importing Required Libraries"
   ]
  },
  {
   "cell_type": "code",
   "execution_count": 1,
   "id": "spiritual-kingdom",
   "metadata": {},
   "outputs": [],
   "source": [
    "import numpy as np                 # For Numerical Calculation              \n",
    "import pandas as pd                # For Data Manipulation\n",
    "import matplotlib.pyplot as plt    # For Data Visualization\n",
    "import seaborn as sns              # For Data Visualization\n",
    "%matplotlib inline\n",
    "\n",
    "sns.set()         # Setting styles of the plot to Seaborn"
   ]
  },
  {
   "cell_type": "code",
   "execution_count": 2,
   "id": "killing-impossible",
   "metadata": {},
   "outputs": [],
   "source": [
    "# Hide the warnings\n",
    "import warnings\n",
    "warnings.filterwarnings('ignore')"
   ]
  },
  {
   "cell_type": "markdown",
   "id": "latest-display",
   "metadata": {},
   "source": [
    "<br>"
   ]
  },
  {
   "cell_type": "markdown",
   "id": "african-begin",
   "metadata": {},
   "source": [
    "## Loading the Dataset"
   ]
  },
  {
   "cell_type": "code",
   "execution_count": 3,
   "id": "trying-spirituality",
   "metadata": {},
   "outputs": [
    {
     "data": {
      "text/html": [
       "<div>\n",
       "<style scoped>\n",
       "    .dataframe tbody tr th:only-of-type {\n",
       "        vertical-align: middle;\n",
       "    }\n",
       "\n",
       "    .dataframe tbody tr th {\n",
       "        vertical-align: top;\n",
       "    }\n",
       "\n",
       "    .dataframe thead th {\n",
       "        text-align: right;\n",
       "    }\n",
       "</style>\n",
       "<table border=\"1\" class=\"dataframe\">\n",
       "  <thead>\n",
       "    <tr style=\"text-align: right;\">\n",
       "      <th></th>\n",
       "      <th>url</th>\n",
       "      <th>address</th>\n",
       "      <th>name</th>\n",
       "      <th>online_order</th>\n",
       "      <th>book_table</th>\n",
       "      <th>rate</th>\n",
       "      <th>votes</th>\n",
       "      <th>phone</th>\n",
       "      <th>location</th>\n",
       "      <th>rest_type</th>\n",
       "      <th>dish_liked</th>\n",
       "      <th>cuisines</th>\n",
       "      <th>approx_cost(for two people)</th>\n",
       "      <th>reviews_list</th>\n",
       "      <th>menu_item</th>\n",
       "      <th>listed_in(type)</th>\n",
       "      <th>listed_in(city)</th>\n",
       "    </tr>\n",
       "  </thead>\n",
       "  <tbody>\n",
       "    <tr>\n",
       "      <th>0</th>\n",
       "      <td>https://www.zomato.com/bangalore/jalsa-banasha...</td>\n",
       "      <td>942, 21st Main Road, 2nd Stage, Banashankari, ...</td>\n",
       "      <td>Jalsa</td>\n",
       "      <td>Yes</td>\n",
       "      <td>Yes</td>\n",
       "      <td>4.1/5</td>\n",
       "      <td>775</td>\n",
       "      <td>080 42297555\\r\\n+91 9743772233</td>\n",
       "      <td>Banashankari</td>\n",
       "      <td>Casual Dining</td>\n",
       "      <td>Pasta, Lunch Buffet, Masala Papad, Paneer Laja...</td>\n",
       "      <td>North Indian, Mughlai, Chinese</td>\n",
       "      <td>800</td>\n",
       "      <td>[('Rated 4.0', 'RATED\\n  A beautiful place to ...</td>\n",
       "      <td>[]</td>\n",
       "      <td>Buffet</td>\n",
       "      <td>Banashankari</td>\n",
       "    </tr>\n",
       "    <tr>\n",
       "      <th>1</th>\n",
       "      <td>https://www.zomato.com/bangalore/spice-elephan...</td>\n",
       "      <td>2nd Floor, 80 Feet Road, Near Big Bazaar, 6th ...</td>\n",
       "      <td>Spice Elephant</td>\n",
       "      <td>Yes</td>\n",
       "      <td>No</td>\n",
       "      <td>4.1/5</td>\n",
       "      <td>787</td>\n",
       "      <td>080 41714161</td>\n",
       "      <td>Banashankari</td>\n",
       "      <td>Casual Dining</td>\n",
       "      <td>Momos, Lunch Buffet, Chocolate Nirvana, Thai G...</td>\n",
       "      <td>Chinese, North Indian, Thai</td>\n",
       "      <td>800</td>\n",
       "      <td>[('Rated 4.0', 'RATED\\n  Had been here for din...</td>\n",
       "      <td>[]</td>\n",
       "      <td>Buffet</td>\n",
       "      <td>Banashankari</td>\n",
       "    </tr>\n",
       "    <tr>\n",
       "      <th>2</th>\n",
       "      <td>https://www.zomato.com/SanchurroBangalore?cont...</td>\n",
       "      <td>1112, Next to KIMS Medical College, 17th Cross...</td>\n",
       "      <td>San Churro Cafe</td>\n",
       "      <td>Yes</td>\n",
       "      <td>No</td>\n",
       "      <td>3.8/5</td>\n",
       "      <td>918</td>\n",
       "      <td>+91 9663487993</td>\n",
       "      <td>Banashankari</td>\n",
       "      <td>Cafe, Casual Dining</td>\n",
       "      <td>Churros, Cannelloni, Minestrone Soup, Hot Choc...</td>\n",
       "      <td>Cafe, Mexican, Italian</td>\n",
       "      <td>800</td>\n",
       "      <td>[('Rated 3.0', \"RATED\\n  Ambience is not that ...</td>\n",
       "      <td>[]</td>\n",
       "      <td>Buffet</td>\n",
       "      <td>Banashankari</td>\n",
       "    </tr>\n",
       "    <tr>\n",
       "      <th>3</th>\n",
       "      <td>https://www.zomato.com/bangalore/addhuri-udupi...</td>\n",
       "      <td>1st Floor, Annakuteera, 3rd Stage, Banashankar...</td>\n",
       "      <td>Addhuri Udupi Bhojana</td>\n",
       "      <td>No</td>\n",
       "      <td>No</td>\n",
       "      <td>3.7/5</td>\n",
       "      <td>88</td>\n",
       "      <td>+91 9620009302</td>\n",
       "      <td>Banashankari</td>\n",
       "      <td>Quick Bites</td>\n",
       "      <td>Masala Dosa</td>\n",
       "      <td>South Indian, North Indian</td>\n",
       "      <td>300</td>\n",
       "      <td>[('Rated 4.0', \"RATED\\n  Great food and proper...</td>\n",
       "      <td>[]</td>\n",
       "      <td>Buffet</td>\n",
       "      <td>Banashankari</td>\n",
       "    </tr>\n",
       "    <tr>\n",
       "      <th>4</th>\n",
       "      <td>https://www.zomato.com/bangalore/grand-village...</td>\n",
       "      <td>10, 3rd Floor, Lakshmi Associates, Gandhi Baza...</td>\n",
       "      <td>Grand Village</td>\n",
       "      <td>No</td>\n",
       "      <td>No</td>\n",
       "      <td>3.8/5</td>\n",
       "      <td>166</td>\n",
       "      <td>+91 8026612447\\r\\n+91 9901210005</td>\n",
       "      <td>Basavanagudi</td>\n",
       "      <td>Casual Dining</td>\n",
       "      <td>Panipuri, Gol Gappe</td>\n",
       "      <td>North Indian, Rajasthani</td>\n",
       "      <td>600</td>\n",
       "      <td>[('Rated 4.0', 'RATED\\n  Very good restaurant ...</td>\n",
       "      <td>[]</td>\n",
       "      <td>Buffet</td>\n",
       "      <td>Banashankari</td>\n",
       "    </tr>\n",
       "  </tbody>\n",
       "</table>\n",
       "</div>"
      ],
      "text/plain": [
       "                                                 url  \\\n",
       "0  https://www.zomato.com/bangalore/jalsa-banasha...   \n",
       "1  https://www.zomato.com/bangalore/spice-elephan...   \n",
       "2  https://www.zomato.com/SanchurroBangalore?cont...   \n",
       "3  https://www.zomato.com/bangalore/addhuri-udupi...   \n",
       "4  https://www.zomato.com/bangalore/grand-village...   \n",
       "\n",
       "                                             address                   name  \\\n",
       "0  942, 21st Main Road, 2nd Stage, Banashankari, ...                  Jalsa   \n",
       "1  2nd Floor, 80 Feet Road, Near Big Bazaar, 6th ...         Spice Elephant   \n",
       "2  1112, Next to KIMS Medical College, 17th Cross...        San Churro Cafe   \n",
       "3  1st Floor, Annakuteera, 3rd Stage, Banashankar...  Addhuri Udupi Bhojana   \n",
       "4  10, 3rd Floor, Lakshmi Associates, Gandhi Baza...          Grand Village   \n",
       "\n",
       "  online_order book_table   rate  votes                             phone  \\\n",
       "0          Yes        Yes  4.1/5    775    080 42297555\\r\\n+91 9743772233   \n",
       "1          Yes         No  4.1/5    787                      080 41714161   \n",
       "2          Yes         No  3.8/5    918                    +91 9663487993   \n",
       "3           No         No  3.7/5     88                    +91 9620009302   \n",
       "4           No         No  3.8/5    166  +91 8026612447\\r\\n+91 9901210005   \n",
       "\n",
       "       location            rest_type  \\\n",
       "0  Banashankari        Casual Dining   \n",
       "1  Banashankari        Casual Dining   \n",
       "2  Banashankari  Cafe, Casual Dining   \n",
       "3  Banashankari          Quick Bites   \n",
       "4  Basavanagudi        Casual Dining   \n",
       "\n",
       "                                          dish_liked  \\\n",
       "0  Pasta, Lunch Buffet, Masala Papad, Paneer Laja...   \n",
       "1  Momos, Lunch Buffet, Chocolate Nirvana, Thai G...   \n",
       "2  Churros, Cannelloni, Minestrone Soup, Hot Choc...   \n",
       "3                                        Masala Dosa   \n",
       "4                                Panipuri, Gol Gappe   \n",
       "\n",
       "                         cuisines approx_cost(for two people)  \\\n",
       "0  North Indian, Mughlai, Chinese                         800   \n",
       "1     Chinese, North Indian, Thai                         800   \n",
       "2          Cafe, Mexican, Italian                         800   \n",
       "3      South Indian, North Indian                         300   \n",
       "4        North Indian, Rajasthani                         600   \n",
       "\n",
       "                                        reviews_list menu_item  \\\n",
       "0  [('Rated 4.0', 'RATED\\n  A beautiful place to ...        []   \n",
       "1  [('Rated 4.0', 'RATED\\n  Had been here for din...        []   \n",
       "2  [('Rated 3.0', \"RATED\\n  Ambience is not that ...        []   \n",
       "3  [('Rated 4.0', \"RATED\\n  Great food and proper...        []   \n",
       "4  [('Rated 4.0', 'RATED\\n  Very good restaurant ...        []   \n",
       "\n",
       "  listed_in(type) listed_in(city)  \n",
       "0          Buffet    Banashankari  \n",
       "1          Buffet    Banashankari  \n",
       "2          Buffet    Banashankari  \n",
       "3          Buffet    Banashankari  \n",
       "4          Buffet    Banashankari  "
      ]
     },
     "execution_count": 3,
     "metadata": {},
     "output_type": "execute_result"
    }
   ],
   "source": [
    "# Importing the Dataset\n",
    "orders_df = pd.read_csv(\"zomato.csv\")\n",
    "orders_df.head()"
   ]
  },
  {
   "cell_type": "markdown",
   "id": "featured-ratio",
   "metadata": {},
   "source": [
    "<br>"
   ]
  },
  {
   "cell_type": "markdown",
   "id": "serial-fashion",
   "metadata": {},
   "source": [
    "## Checking the Size of the Dataset"
   ]
  },
  {
   "cell_type": "code",
   "execution_count": 4,
   "id": "sustainable-qualification",
   "metadata": {},
   "outputs": [
    {
     "data": {
      "text/plain": [
       "(51717, 17)"
      ]
     },
     "execution_count": 4,
     "metadata": {},
     "output_type": "execute_result"
    }
   ],
   "source": [
    "orders_df.shape"
   ]
  },
  {
   "cell_type": "markdown",
   "id": "governmental-quantum",
   "metadata": {},
   "source": [
    "<p><strong>Outcome : </strong>There are 51717 rows and 17 columns in our Dataset."
   ]
  },
  {
   "cell_type": "markdown",
   "id": "broadband-novel",
   "metadata": {},
   "source": [
    "<br>"
   ]
  },
  {
   "cell_type": "markdown",
   "id": "wireless-kitty",
   "metadata": {},
   "source": [
    "## Checking the columns in the Dataset"
   ]
  },
  {
   "cell_type": "code",
   "execution_count": 5,
   "id": "numeric-audit",
   "metadata": {},
   "outputs": [
    {
     "data": {
      "text/plain": [
       "['url',\n",
       " 'address',\n",
       " 'name',\n",
       " 'online_order',\n",
       " 'book_table',\n",
       " 'rate',\n",
       " 'votes',\n",
       " 'phone',\n",
       " 'location',\n",
       " 'rest_type',\n",
       " 'dish_liked',\n",
       " 'cuisines',\n",
       " 'approx_cost(for two people)',\n",
       " 'reviews_list',\n",
       " 'menu_item',\n",
       " 'listed_in(type)',\n",
       " 'listed_in(city)']"
      ]
     },
     "execution_count": 5,
     "metadata": {},
     "output_type": "execute_result"
    }
   ],
   "source": [
    "orders_df.columns.to_list()"
   ]
  },
  {
   "cell_type": "markdown",
   "id": "exposed-paper",
   "metadata": {},
   "source": [
    "<p>Here, we can see the list of columns in which some of the columns are important and some are irrelevant in the context of the problem. So, further we drop and process the data.</p>"
   ]
  },
  {
   "cell_type": "markdown",
   "id": "greater-utilization",
   "metadata": {},
   "source": [
    "<br>"
   ]
  },
  {
   "cell_type": "markdown",
   "id": "laughing-banks",
   "metadata": {},
   "source": [
    "## Renaming Columns"
   ]
  },
  {
   "cell_type": "code",
   "execution_count": 6,
   "id": "expanded-norway",
   "metadata": {},
   "outputs": [],
   "source": [
    "# Renaming the columns approx_cost(for two people), listed(city) with approx_cost, area respectively\n",
    "orders_df.rename(columns = {'approx_cost(for two people)' : 'approx_cost', 'listed_in(city)' : 'area'}, inplace = True)"
   ]
  },
  {
   "cell_type": "markdown",
   "id": "arctic-database",
   "metadata": {},
   "source": [
    "<br>"
   ]
  },
  {
   "cell_type": "markdown",
   "id": "tamil-boring",
   "metadata": {},
   "source": [
    "## Data Cleaning\n",
    "<p>Now, we clean our data by dropping the irrelevant columns, handling the wrong datatypes, handling the null values and the outliers.</p>"
   ]
  },
  {
   "cell_type": "markdown",
   "id": "round-directive",
   "metadata": {},
   "source": [
    "### Dropping Irrelevant Columns"
   ]
  },
  {
   "cell_type": "code",
   "execution_count": 7,
   "id": "institutional-richmond",
   "metadata": {},
   "outputs": [
    {
     "data": {
      "text/html": [
       "<div>\n",
       "<style scoped>\n",
       "    .dataframe tbody tr th:only-of-type {\n",
       "        vertical-align: middle;\n",
       "    }\n",
       "\n",
       "    .dataframe tbody tr th {\n",
       "        vertical-align: top;\n",
       "    }\n",
       "\n",
       "    .dataframe thead th {\n",
       "        text-align: right;\n",
       "    }\n",
       "</style>\n",
       "<table border=\"1\" class=\"dataframe\">\n",
       "  <thead>\n",
       "    <tr style=\"text-align: right;\">\n",
       "      <th></th>\n",
       "      <th>name</th>\n",
       "      <th>online_order</th>\n",
       "      <th>book_table</th>\n",
       "      <th>rate</th>\n",
       "      <th>votes</th>\n",
       "      <th>location</th>\n",
       "      <th>rest_type</th>\n",
       "      <th>cuisines</th>\n",
       "      <th>approx_cost</th>\n",
       "      <th>area</th>\n",
       "    </tr>\n",
       "  </thead>\n",
       "  <tbody>\n",
       "    <tr>\n",
       "      <th>0</th>\n",
       "      <td>Jalsa</td>\n",
       "      <td>Yes</td>\n",
       "      <td>Yes</td>\n",
       "      <td>4.1/5</td>\n",
       "      <td>775</td>\n",
       "      <td>Banashankari</td>\n",
       "      <td>Casual Dining</td>\n",
       "      <td>North Indian, Mughlai, Chinese</td>\n",
       "      <td>800</td>\n",
       "      <td>Banashankari</td>\n",
       "    </tr>\n",
       "    <tr>\n",
       "      <th>1</th>\n",
       "      <td>Spice Elephant</td>\n",
       "      <td>Yes</td>\n",
       "      <td>No</td>\n",
       "      <td>4.1/5</td>\n",
       "      <td>787</td>\n",
       "      <td>Banashankari</td>\n",
       "      <td>Casual Dining</td>\n",
       "      <td>Chinese, North Indian, Thai</td>\n",
       "      <td>800</td>\n",
       "      <td>Banashankari</td>\n",
       "    </tr>\n",
       "    <tr>\n",
       "      <th>2</th>\n",
       "      <td>San Churro Cafe</td>\n",
       "      <td>Yes</td>\n",
       "      <td>No</td>\n",
       "      <td>3.8/5</td>\n",
       "      <td>918</td>\n",
       "      <td>Banashankari</td>\n",
       "      <td>Cafe, Casual Dining</td>\n",
       "      <td>Cafe, Mexican, Italian</td>\n",
       "      <td>800</td>\n",
       "      <td>Banashankari</td>\n",
       "    </tr>\n",
       "    <tr>\n",
       "      <th>3</th>\n",
       "      <td>Addhuri Udupi Bhojana</td>\n",
       "      <td>No</td>\n",
       "      <td>No</td>\n",
       "      <td>3.7/5</td>\n",
       "      <td>88</td>\n",
       "      <td>Banashankari</td>\n",
       "      <td>Quick Bites</td>\n",
       "      <td>South Indian, North Indian</td>\n",
       "      <td>300</td>\n",
       "      <td>Banashankari</td>\n",
       "    </tr>\n",
       "    <tr>\n",
       "      <th>4</th>\n",
       "      <td>Grand Village</td>\n",
       "      <td>No</td>\n",
       "      <td>No</td>\n",
       "      <td>3.8/5</td>\n",
       "      <td>166</td>\n",
       "      <td>Basavanagudi</td>\n",
       "      <td>Casual Dining</td>\n",
       "      <td>North Indian, Rajasthani</td>\n",
       "      <td>600</td>\n",
       "      <td>Banashankari</td>\n",
       "    </tr>\n",
       "  </tbody>\n",
       "</table>\n",
       "</div>"
      ],
      "text/plain": [
       "                    name online_order book_table   rate  votes      location  \\\n",
       "0                  Jalsa          Yes        Yes  4.1/5    775  Banashankari   \n",
       "1         Spice Elephant          Yes         No  4.1/5    787  Banashankari   \n",
       "2        San Churro Cafe          Yes         No  3.8/5    918  Banashankari   \n",
       "3  Addhuri Udupi Bhojana           No         No  3.7/5     88  Banashankari   \n",
       "4          Grand Village           No         No  3.8/5    166  Basavanagudi   \n",
       "\n",
       "             rest_type                        cuisines approx_cost  \\\n",
       "0        Casual Dining  North Indian, Mughlai, Chinese         800   \n",
       "1        Casual Dining     Chinese, North Indian, Thai         800   \n",
       "2  Cafe, Casual Dining          Cafe, Mexican, Italian         800   \n",
       "3          Quick Bites      South Indian, North Indian         300   \n",
       "4        Casual Dining        North Indian, Rajasthani         600   \n",
       "\n",
       "           area  \n",
       "0  Banashankari  \n",
       "1  Banashankari  \n",
       "2  Banashankari  \n",
       "3  Banashankari  \n",
       "4  Banashankari  "
      ]
     },
     "execution_count": 7,
     "metadata": {},
     "output_type": "execute_result"
    }
   ],
   "source": [
    "# Here, url, address, menu_item, reviews_list, dish_liked, phone, listed_in(type) are irrelevant for \n",
    "# the problem's solution\n",
    "orders_df.drop(['url', 'address','menu_item', 'reviews_list', 'dish_liked', 'phone', 'listed_in(type)'], axis = 1, inplace=True)\n",
    "orders_df.head()"
   ]
  },
  {
   "cell_type": "markdown",
   "id": "married-pendant",
   "metadata": {},
   "source": [
    "<br>"
   ]
  },
  {
   "cell_type": "markdown",
   "id": "turkish-bowling",
   "metadata": {},
   "source": [
    "### Checking and Handling the Datatypes"
   ]
  },
  {
   "cell_type": "code",
   "execution_count": 8,
   "id": "existing-princess",
   "metadata": {},
   "outputs": [
    {
     "name": "stdout",
     "output_type": "stream",
     "text": [
      "<class 'pandas.core.frame.DataFrame'>\n",
      "RangeIndex: 51717 entries, 0 to 51716\n",
      "Data columns (total 10 columns):\n",
      " #   Column        Non-Null Count  Dtype \n",
      "---  ------        --------------  ----- \n",
      " 0   name          51717 non-null  object\n",
      " 1   online_order  51717 non-null  object\n",
      " 2   book_table    51717 non-null  object\n",
      " 3   rate          43942 non-null  object\n",
      " 4   votes         51717 non-null  int64 \n",
      " 5   location      51696 non-null  object\n",
      " 6   rest_type     51490 non-null  object\n",
      " 7   cuisines      51672 non-null  object\n",
      " 8   approx_cost   51371 non-null  object\n",
      " 9   area          51717 non-null  object\n",
      "dtypes: int64(1), object(9)\n",
      "memory usage: 3.9+ MB\n"
     ]
    }
   ],
   "source": [
    "# Checking the types of data present in the Dataset\n",
    "orders_df.info()"
   ]
  },
  {
   "cell_type": "markdown",
   "id": "fleet-arcade",
   "metadata": {},
   "source": [
    "<strong>From above result, we can see that the columns { rate, location, rest_type, approx_cost, cuisines } either have null values, wrong datatypes or both.</strong> "
   ]
  },
  {
   "cell_type": "markdown",
   "id": "frequent-words",
   "metadata": {},
   "source": [
    "<br>"
   ]
  },
  {
   "cell_type": "markdown",
   "id": "random-vanilla",
   "metadata": {},
   "source": [
    "#### Rate Column"
   ]
  },
  {
   "cell_type": "code",
   "execution_count": 9,
   "id": "moderate-filter",
   "metadata": {
    "scrolled": true
   },
   "outputs": [
    {
     "data": {
      "text/plain": [
       "array(['4.1/5', '3.8/5', '3.7/5', '3.6/5', '4.6/5', '4.0/5', '4.2/5',\n",
       "       '3.9/5', '3.1/5', '3.0/5', '3.2/5', '3.3/5', '2.8/5', '4.4/5',\n",
       "       '4.3/5', 'NEW', '2.9/5', '3.5/5', nan, '2.6/5', '3.8 /5', '3.4/5',\n",
       "       '4.5/5', '2.5/5', '2.7/5', '4.7/5', '2.4/5', '2.2/5', '2.3/5',\n",
       "       '3.4 /5', '-', '3.6 /5', '4.8/5', '3.9 /5', '4.2 /5', '4.0 /5',\n",
       "       '4.1 /5', '3.7 /5', '3.1 /5', '2.9 /5', '3.3 /5', '2.8 /5',\n",
       "       '3.5 /5', '2.7 /5', '2.5 /5', '3.2 /5', '2.6 /5', '4.5 /5',\n",
       "       '4.3 /5', '4.4 /5', '4.9/5', '2.1/5', '2.0/5', '1.8/5', '4.6 /5',\n",
       "       '4.9 /5', '3.0 /5', '4.8 /5', '2.3 /5', '4.7 /5', '2.4 /5',\n",
       "       '2.1 /5', '2.2 /5', '2.0 /5', '1.8 /5'], dtype=object)"
      ]
     },
     "execution_count": 9,
     "metadata": {},
     "output_type": "execute_result"
    }
   ],
   "source": [
    "# Checking the unique values in the Rate column of the Dataset\n",
    "orders_df['rate'].unique()"
   ]
  },
  {
   "cell_type": "markdown",
   "id": "electric-humanitarian",
   "metadata": {},
   "source": [
    "<p>Above result shows that there are many null values and garbage values also. "
   ]
  },
  {
   "cell_type": "markdown",
   "id": "requested-ghana",
   "metadata": {},
   "source": [
    "<br>"
   ]
  },
  {
   "cell_type": "code",
   "execution_count": 10,
   "id": "shaped-chosen",
   "metadata": {},
   "outputs": [],
   "source": [
    "# Replacing all the null values and garbage values and making it to be converted into numbers\n",
    "orders_df['rate'] =  orders_df['rate'].str.replace(\"/5\", \"\")\n",
    "orders_df['rate'] =  orders_df['rate'].str.replace(\"nan\", \"NaN\")\n",
    "orders_df['rate'] =  orders_df['rate'].str.replace(\"NEW\", \"NaN\")\n",
    "orders_df['rate'] =  orders_df['rate'].str.replace(\"-\", \"NaN\")\n",
    "orders_df['rate'] =  orders_df['rate'].str.replace(\" /5\", \"\")\n",
    "orders_df['rate'] =  orders_df['rate'].fillna(np.nan)\n",
    "orders_df['rate'] =  orders_df['rate'].str.replace(\" \", \"\")"
   ]
  },
  {
   "cell_type": "code",
   "execution_count": 11,
   "id": "moved-malawi",
   "metadata": {
    "scrolled": true
   },
   "outputs": [
    {
     "data": {
      "text/plain": [
       "array(['4.1', '3.8', '3.7', '3.6', '4.6', '4.0', '4.2', '3.9', '3.1',\n",
       "       '3.0', '3.2', '3.3', '2.8', '4.4', '4.3', 'NaN', '2.9', '3.5', nan,\n",
       "       '2.6', '3.4', '4.5', '2.5', '2.7', '4.7', '2.4', '2.2', '2.3',\n",
       "       '4.8', '4.9', '2.1', '2.0', '1.8'], dtype=object)"
      ]
     },
     "execution_count": 11,
     "metadata": {},
     "output_type": "execute_result"
    }
   ],
   "source": [
    "# Verifying the results\n",
    "orders_df['rate'].unique()"
   ]
  },
  {
   "cell_type": "code",
   "execution_count": 12,
   "id": "accessible-maple",
   "metadata": {},
   "outputs": [],
   "source": [
    "# Changing the Datatype of Rate column from object to float\n",
    "orders_df['rate'] = orders_df['rate'].astype(float)"
   ]
  },
  {
   "cell_type": "markdown",
   "id": "collectible-customs",
   "metadata": {},
   "source": [
    "<br>"
   ]
  },
  {
   "cell_type": "markdown",
   "id": "celtic-netscape",
   "metadata": {},
   "source": [
    "#### Approx Cost Column"
   ]
  },
  {
   "cell_type": "code",
   "execution_count": 13,
   "id": "disturbed-telling",
   "metadata": {},
   "outputs": [
    {
     "data": {
      "text/plain": [
       "array(['800', '300', '600', '700', '550', '500', '450', '650', '400',\n",
       "       '900', '200', '750', '150', '850', '100', '1,200', '350', '250',\n",
       "       '950', '1,000', '1,500', '1,300', '199', '80', '1,100', '160',\n",
       "       '1,600', '230', '130', '50', '190', '1,700', nan, '1,400', '180',\n",
       "       '1,350', '2,200', '2,000', '1,800', '1,900', '330', '2,500',\n",
       "       '2,100', '3,000', '2,800', '3,400', '40', '1,250', '3,500',\n",
       "       '4,000', '2,400', '2,600', '120', '1,450', '469', '70', '3,200',\n",
       "       '60', '560', '240', '360', '6,000', '1,050', '2,300', '4,100',\n",
       "       '5,000', '3,700', '1,650', '2,700', '4,500', '140'], dtype=object)"
      ]
     },
     "execution_count": 13,
     "metadata": {},
     "output_type": "execute_result"
    }
   ],
   "source": [
    "# Checking the unique values in the Approx Cost column of the Dataset\n",
    "orders_df['approx_cost'].unique()"
   ]
  },
  {
   "cell_type": "markdown",
   "id": "pending-carbon",
   "metadata": {},
   "source": [
    "<p>Above, we can see that there are null values and numeric values but in the object type.</p>"
   ]
  },
  {
   "cell_type": "markdown",
   "id": "satisfied-promotion",
   "metadata": {},
   "source": [
    "<br>"
   ]
  },
  {
   "cell_type": "code",
   "execution_count": 14,
   "id": "representative-update",
   "metadata": {},
   "outputs": [],
   "source": [
    "# Replacing the null values and make it able to convert \n",
    "orders_df['approx_cost'] =  orders_df['approx_cost'].str.replace(\"nan\", \"NaN\")\n",
    "orders_df['approx_cost'] =  orders_df['approx_cost'].fillna('NaN')\n",
    "orders_df['approx_cost'] =  orders_df['approx_cost'].str.replace(\",\", \"\")"
   ]
  },
  {
   "cell_type": "code",
   "execution_count": 15,
   "id": "alert-poverty",
   "metadata": {},
   "outputs": [
    {
     "data": {
      "text/plain": [
       "array(['800', '300', '600', '700', '550', '500', '450', '650', '400',\n",
       "       '900', '200', '750', '150', '850', '100', '1200', '350', '250',\n",
       "       '950', '1000', '1500', '1300', '199', '80', '1100', '160', '1600',\n",
       "       '230', '130', '50', '190', '1700', 'NaN', '1400', '180', '1350',\n",
       "       '2200', '2000', '1800', '1900', '330', '2500', '2100', '3000',\n",
       "       '2800', '3400', '40', '1250', '3500', '4000', '2400', '2600',\n",
       "       '120', '1450', '469', '70', '3200', '60', '560', '240', '360',\n",
       "       '6000', '1050', '2300', '4100', '5000', '3700', '1650', '2700',\n",
       "       '4500', '140'], dtype=object)"
      ]
     },
     "execution_count": 15,
     "metadata": {},
     "output_type": "execute_result"
    }
   ],
   "source": [
    "# Verifying the Results\n",
    "orders_df['approx_cost'].unique()"
   ]
  },
  {
   "cell_type": "code",
   "execution_count": 16,
   "id": "developmental-daniel",
   "metadata": {},
   "outputs": [],
   "source": [
    "# Changing the Datatype of the column from Object to Float\n",
    "orders_df['approx_cost'] = orders_df['approx_cost'].astype(float)"
   ]
  },
  {
   "cell_type": "code",
   "execution_count": 17,
   "id": "musical-struggle",
   "metadata": {},
   "outputs": [
    {
     "name": "stdout",
     "output_type": "stream",
     "text": [
      "<class 'pandas.core.frame.DataFrame'>\n",
      "RangeIndex: 51717 entries, 0 to 51716\n",
      "Data columns (total 10 columns):\n",
      " #   Column        Non-Null Count  Dtype  \n",
      "---  ------        --------------  -----  \n",
      " 0   name          51717 non-null  object \n",
      " 1   online_order  51717 non-null  object \n",
      " 2   book_table    51717 non-null  object \n",
      " 3   rate          41665 non-null  float64\n",
      " 4   votes         51717 non-null  int64  \n",
      " 5   location      51696 non-null  object \n",
      " 6   rest_type     51490 non-null  object \n",
      " 7   cuisines      51672 non-null  object \n",
      " 8   approx_cost   51371 non-null  float64\n",
      " 9   area          51717 non-null  object \n",
      "dtypes: float64(2), int64(1), object(7)\n",
      "memory usage: 3.9+ MB\n"
     ]
    }
   ],
   "source": [
    "# Again, checking the datatypes of columns to verify\n",
    "orders_df.info()"
   ]
  },
  {
   "cell_type": "markdown",
   "id": "approved-sculpture",
   "metadata": {},
   "source": [
    "<br>"
   ]
  },
  {
   "cell_type": "markdown",
   "id": "annoying-history",
   "metadata": {},
   "source": [
    "### Checking for Null Values"
   ]
  },
  {
   "cell_type": "code",
   "execution_count": 18,
   "id": "respected-video",
   "metadata": {},
   "outputs": [
    {
     "data": {
      "text/plain": [
       "name                0\n",
       "online_order        0\n",
       "book_table          0\n",
       "rate            10052\n",
       "votes               0\n",
       "location           21\n",
       "rest_type         227\n",
       "cuisines           45\n",
       "approx_cost       346\n",
       "area                0\n",
       "dtype: int64"
      ]
     },
     "execution_count": 18,
     "metadata": {},
     "output_type": "execute_result"
    }
   ],
   "source": [
    "# Checking the number of null values columnwise\n",
    "orders_df.isna().sum()"
   ]
  },
  {
   "cell_type": "code",
   "execution_count": 19,
   "id": "completed-dinner",
   "metadata": {},
   "outputs": [
    {
     "data": {
      "text/plain": [
       "name             0.000000\n",
       "online_order     0.000000\n",
       "book_table       0.000000\n",
       "rate            19.436549\n",
       "votes            0.000000\n",
       "location         0.040606\n",
       "rest_type        0.438927\n",
       "cuisines         0.087012\n",
       "approx_cost      0.669026\n",
       "area             0.000000\n",
       "dtype: float64"
      ]
     },
     "execution_count": 19,
     "metadata": {},
     "output_type": "execute_result"
    }
   ],
   "source": [
    "# Checking of Percentage of Null values in Each Column\n",
    "(orders_df.isna().sum() / orders_df.shape[0]) * 100"
   ]
  },
  {
   "cell_type": "markdown",
   "id": "danish-taste",
   "metadata": {},
   "source": [
    "<p>Here, we can see that columns location, rest_type, cuisines, approx_cost have less number of null values as compared to rate column. So, we can drop that null values.</p>"
   ]
  },
  {
   "cell_type": "markdown",
   "id": "incoming-timber",
   "metadata": {},
   "source": [
    "<br>"
   ]
  },
  {
   "cell_type": "code",
   "execution_count": 20,
   "id": "perfect-thunder",
   "metadata": {},
   "outputs": [
    {
     "data": {
      "text/plain": [
       "name               0\n",
       "online_order       0\n",
       "book_table         0\n",
       "rate            9885\n",
       "votes              0\n",
       "location           0\n",
       "rest_type          0\n",
       "cuisines           0\n",
       "approx_cost        0\n",
       "area               0\n",
       "dtype: int64"
      ]
     },
     "execution_count": 20,
     "metadata": {},
     "output_type": "execute_result"
    }
   ],
   "source": [
    "# Here, we dropping the null values from the columns having lesser number of null values\n",
    "orders_df = orders_df[orders_df[\"location\"].notna()]\n",
    "orders_df = orders_df[orders_df[\"rest_type\"].notna()]\n",
    "orders_df = orders_df[orders_df[\"cuisines\"].notna()]\n",
    "orders_df = orders_df[orders_df[\"approx_cost\"].notna()]\n",
    "\n",
    "# Verifying the results\n",
    "orders_df.isna().sum()"
   ]
  },
  {
   "cell_type": "markdown",
   "id": "periodic-opinion",
   "metadata": {},
   "source": [
    "<br>"
   ]
  },
  {
   "cell_type": "markdown",
   "id": "earlier-electricity",
   "metadata": {},
   "source": [
    "#### Handling Null values in Rate Column\n",
    "<p>As the rate column has greater number of null values, dropping them leads to losing the a large amount of data. So, instead of dropping it, we will impute with either mean, mode or median."
   ]
  },
  {
   "cell_type": "code",
   "execution_count": 21,
   "id": "hidden-virtue",
   "metadata": {},
   "outputs": [
    {
     "data": {
      "text/plain": [
       "count    41263.000000\n",
       "mean         3.702011\n",
       "std          0.439985\n",
       "min          1.800000\n",
       "25%          3.400000\n",
       "50%          3.700000\n",
       "75%          4.000000\n",
       "max          4.900000\n",
       "Name: rate, dtype: float64"
      ]
     },
     "execution_count": 21,
     "metadata": {},
     "output_type": "execute_result"
    }
   ],
   "source": [
    "# Checking all the statistics of Rate column\n",
    "orders_df['rate'].describe()"
   ]
  },
  {
   "cell_type": "code",
   "execution_count": 22,
   "id": "pretty-ranch",
   "metadata": {},
   "outputs": [
    {
     "name": "stdout",
     "output_type": "stream",
     "text": [
      "Number of Rows having Outliers :  183\n"
     ]
    }
   ],
   "source": [
    "# For imputing the values, we will check for outliers\n",
    "q1 = orders_df['rate'].quantile(0.25)\n",
    "q3 = orders_df['rate'].quantile(0.75)\n",
    "\n",
    "iqr = q3 - q1\n",
    "\n",
    "lower_range = q1 - (1.5 * iqr)\n",
    "upper_range = q3 + (1.5 * iqr)\n",
    "\n",
    "outliers = len(orders_df[(orders_df['rate'] < lower_range) | (orders_df['rate'] > upper_range)])\n",
    "print(\"Number of Rows having Outliers : \", outliers)"
   ]
  },
  {
   "cell_type": "markdown",
   "id": "independent-pakistan",
   "metadata": {},
   "source": [
    "<p>Here, we can see that 183 rows have outliers, but as we know that rating are always in the range from 1.0 to 5.0. So, using the mean is not appropriate. Therefore, we will impute with median.</p>"
   ]
  },
  {
   "cell_type": "markdown",
   "id": "sapphire-oakland",
   "metadata": {},
   "source": [
    "<br>"
   ]
  },
  {
   "cell_type": "code",
   "execution_count": 23,
   "id": "reserved-liberal",
   "metadata": {},
   "outputs": [
    {
     "data": {
      "text/plain": [
       "name            0\n",
       "online_order    0\n",
       "book_table      0\n",
       "rate            0\n",
       "votes           0\n",
       "location        0\n",
       "rest_type       0\n",
       "cuisines        0\n",
       "approx_cost     0\n",
       "area            0\n",
       "dtype: int64"
      ]
     },
     "execution_count": 23,
     "metadata": {},
     "output_type": "execute_result"
    }
   ],
   "source": [
    "# Imputing the null values with median of rate column\n",
    "orders_df['rate'] = orders_df['rate'].fillna(orders_df['rate'].median())\n",
    "\n",
    "# Verifying the Results\n",
    "orders_df.isna().sum()"
   ]
  },
  {
   "cell_type": "code",
   "execution_count": 24,
   "id": "large-pointer",
   "metadata": {},
   "outputs": [],
   "source": [
    "# After dropping the values, we will reset the index\n",
    "orders_df.reset_index(inplace=True)\n",
    "orders_df.drop(['index'], axis=1, inplace=True)"
   ]
  },
  {
   "cell_type": "markdown",
   "id": "ancient-speed",
   "metadata": {},
   "source": [
    "<br>"
   ]
  },
  {
   "cell_type": "markdown",
   "id": "e9ddc16f",
   "metadata": {},
   "source": [
    "## Data Visualization\n",
    "<p>Now, we visualize our data based on different parameters to understand the relations and some insights from out dataset."
   ]
  },
  {
   "cell_type": "markdown",
   "id": "313eeb5e",
   "metadata": {},
   "source": [
    "### No. of orders vs Restaurants"
   ]
  },
  {
   "cell_type": "code",
   "execution_count": 25,
   "id": "3a1e1f29",
   "metadata": {},
   "outputs": [
    {
     "data": {
      "image/png": "[encoded data removed]",
      "text/plain": [
       "<Figure size 864x360 with 1 Axes>"
      ]
     },
     "metadata": {},
     "output_type": "display_data"
    }
   ],
   "source": [
    "# Checking for the Restaurants got higher number of orders\n",
    "plt.figure(figsize = (12,5))\n",
    "data = orders_df['name'].value_counts()[:30]\n",
    "data.plot(kind = 'bar')\n",
    "plt.xlabel('Name of Restaurants', size = 14)\n",
    "plt.ylabel('No. of Orders', size = 14)\n",
    "plt.title(\"Restaurants with Maximum No. of Orders\", fontsize=15)\n",
    "plt.show()"
   ]
  },
  {
   "cell_type": "markdown",
   "id": "educated-comfort",
   "metadata": {},
   "source": [
    "<p>Above Bar chart shows that the Cafe Coffee Day and Onesta got slightly higher number of orders as compared to others restaurants while others got approximately same number of orders.</p>"
   ]
  },
  {
   "cell_type": "markdown",
   "id": "ongoing-picture",
   "metadata": {},
   "source": [
    "<br>"
   ]
  },
  {
   "cell_type": "markdown",
   "id": "95e06dcd",
   "metadata": {},
   "source": [
    "### Number of Restaurants having Online Order Facility"
   ]
  },
  {
   "cell_type": "code",
   "execution_count": 26,
   "id": "073e2599",
   "metadata": {
    "scrolled": true
   },
   "outputs": [
    {
     "data": {
      "image/png": "[encoded data removed]",
      "text/plain": [
       "<Figure size 576x360 with 1 Axes>"
      ]
     },
     "metadata": {},
     "output_type": "display_data"
    }
   ],
   "source": [
    "# Checking the number of restaurants having Online Order Facility\n",
    "data = orders_df[['name', 'online_order']].drop_duplicates()\n",
    "\n",
    "plt.figure(figsize = (8,5))\n",
    "ax = sns.countplot(x=\"online_order\", data=data).set_title('Online Order Facility',fontsize = 15)\n",
    "plt.show()"
   ]
  },
  {
   "cell_type": "markdown",
   "id": "moved-monte",
   "metadata": {},
   "source": [
    "From above chart, we can see that only 4397 restaurants in Banglore have <strong>Online Order Facility</strong> which less than the half of the restaurants."
   ]
  },
  {
   "cell_type": "markdown",
   "id": "brown-outline",
   "metadata": {},
   "source": [
    "<br>"
   ]
  },
  {
   "cell_type": "markdown",
   "id": "70b71ae3",
   "metadata": {},
   "source": [
    "### Number of restaurants having Prebooking Table Facility"
   ]
  },
  {
   "cell_type": "code",
   "execution_count": 27,
   "id": "505bd8c5",
   "metadata": {},
   "outputs": [
    {
     "data": {
      "image/png": "[encoded data removed]",
      "text/plain": [
       "<Figure size 576x432 with 1 Axes>"
      ]
     },
     "metadata": {},
     "output_type": "display_data"
    }
   ],
   "source": [
    "# Checking the number of restaurants having Prebooking Table Facility\n",
    "data = orders_df[['name', 'book_table']].drop_duplicates()\n",
    "\n",
    "plt.figure(figsize = (8,6))\n",
    "ax = sns.countplot(x=\"book_table\", data=data).set_title('Pre Booking Facility', fontsize = 15)\n",
    "plt.show()"
   ]
  },
  {
   "cell_type": "markdown",
   "id": "valued-scoop",
   "metadata": {},
   "source": [
    "From above chart, we can see that Most of the restaurants in Banglore doesn't have <strong>Pre Booking Facility</strong> which is about 8011 restaurants and only 820 restaurants having these facility."
   ]
  },
  {
   "cell_type": "markdown",
   "id": "breeding-flower",
   "metadata": {},
   "source": [
    "<br>"
   ]
  },
  {
   "cell_type": "markdown",
   "id": "b630b0fe",
   "metadata": {},
   "source": [
    "### Top Locations got Higher Number of Orders"
   ]
  },
  {
   "cell_type": "code",
   "execution_count": 28,
   "id": "420ae7ee",
   "metadata": {},
   "outputs": [
    {
     "data": {
      "image/png": "[encoded data removed]",
      "text/plain": [
       "<Figure size 864x360 with 1 Axes>"
      ]
     },
     "metadata": {},
     "output_type": "display_data"
    }
   ],
   "source": [
    "# Checking top Locations got Higher Number of Orders\n",
    "plt.figure(figsize = (12,5))\n",
    "data = orders_df.location.value_counts()[0:25]\n",
    "data.plot(kind='bar')\n",
    "plt.xlabel('Locations')\n",
    "plt.ylabel('No. of orders')\n",
    "plt.title ('Top Locations got Higher Number of Orders', size = 15)\n",
    "plt.show()"
   ]
  },
  {
   "cell_type": "markdown",
   "id": "cleared-girlfriend",
   "metadata": {},
   "source": [
    "Above visualization shows that <strong>Location BTM</strong> got higher number of orders among all others locations. Also, <strong>HSR and Koramangala 5th Block Location</strong> also got good number of order which is approximately half of the orders of BTM Location."
   ]
  },
  {
   "cell_type": "markdown",
   "id": "radical-flavor",
   "metadata": {},
   "source": [
    "<br>"
   ]
  },
  {
   "cell_type": "markdown",
   "id": "368cb68b",
   "metadata": {},
   "source": [
    "### Most Common Ratings for orders"
   ]
  },
  {
   "cell_type": "code",
   "execution_count": 29,
   "id": "5a78886d",
   "metadata": {},
   "outputs": [
    {
     "data": {
      "image/png": "[encoded data removed]",
      "text/plain": [
       "<Figure size 1080x432 with 1 Axes>"
      ]
     },
     "metadata": {},
     "output_type": "display_data"
    }
   ],
   "source": [
    "# Checking the most Common ratings for orders\n",
    "data = orders_df.rate.value_counts().reset_index()[0:20]\n",
    "\n",
    "plt.figure(figsize = (15,6))\n",
    "sns.barplot(x = data['index'], y = data['rate'])\n",
    "plt.xlabel('Ratings')\n",
    "plt.ylabel('No. of orders')\n",
    "plt.title ('Most Common Ratings', size = 15)\n",
    "plt.show()"
   ]
  },
  {
   "cell_type": "markdown",
   "id": "gentle-wallace",
   "metadata": {},
   "source": [
    "We can see that maximum number of orders got <strong>3.7 rating</strong> for their restaurants."
   ]
  },
  {
   "cell_type": "markdown",
   "id": "controlled-shuttle",
   "metadata": {},
   "source": [
    "<br>"
   ]
  },
  {
   "cell_type": "markdown",
   "id": "ee40f0d5",
   "metadata": {},
   "source": [
    "### Common Approximate Costs for meal of two people "
   ]
  },
  {
   "cell_type": "code",
   "execution_count": 30,
   "id": "26fd0ece",
   "metadata": {},
   "outputs": [],
   "source": [
    "data = pd.DataFrame(orders_df[\"approx_cost\"].value_counts().reset_index()[:20])\n",
    "data.columns = ['approx_cost', 'count']\n",
    "data = data.set_index('approx_cost')"
   ]
  },
  {
   "cell_type": "code",
   "execution_count": 31,
   "id": "2711053f",
   "metadata": {},
   "outputs": [
    {
     "data": {
      "image/png": "[encoded data removed]",
      "text/plain": [
       "<Figure size 1080x360 with 1 Axes>"
      ]
     },
     "metadata": {},
     "output_type": "display_data"
    }
   ],
   "source": [
    "plt.figure(figsize = (15, 5))\n",
    "sns.barplot(x = data.index, y = data['count'])\n",
    "plt.xlabel('Rate for Two People', size=15)\n",
    "plt.ylabel('No. of orders', size=15)\n",
    "plt.xticks(size=12)\n",
    "plt.yticks(size=12)\n",
    "plt.title('Top preferred costs for two people', size = 20)\n",
    "plt.show()"
   ]
  },
  {
   "cell_type": "markdown",
   "id": "886839f0",
   "metadata": {},
   "source": [
    "### Restaurant Type vs No. of orders"
   ]
  },
  {
   "cell_type": "code",
   "execution_count": 32,
   "id": "7fcf4005",
   "metadata": {},
   "outputs": [
    {
     "data": {
      "image/png": "[encoded data removed]",
      "text/plain": [
       "<Figure size 864x360 with 1 Axes>"
      ]
     },
     "metadata": {},
     "output_type": "display_data"
    }
   ],
   "source": [
    "plt.figure(figsize=(12,5))\n",
    "ax = orders_df.rest_type.value_counts()[:25]\n",
    "ax.plot(kind='bar')\n",
    "plt.title(\"Most Famous Restaurant Types\",fontsize=15)\n",
    "plt.xlabel(\"Type of Restaurants\")\n",
    "plt.ylabel(\"No. of Orders\")\n",
    "plt.show()"
   ]
  },
  {
   "cell_type": "markdown",
   "id": "1c0537e4",
   "metadata": {},
   "source": [
    "### Most famous Cusines among People"
   ]
  },
  {
   "cell_type": "code",
   "execution_count": 33,
   "id": "235e774a",
   "metadata": {},
   "outputs": [
    {
     "data": {
      "image/png": "[encoded data removed]",
      "text/plain": [
       "<Figure size 864x360 with 1 Axes>"
      ]
     },
     "metadata": {},
     "output_type": "display_data"
    }
   ],
   "source": [
    "plt.figure(figsize=(12,5))\n",
    "ax = orders_df.cuisines.value_counts()[:25].plot(kind='bar')\n",
    "plt.title(\"Most famous Cusines among People\",fontsize=15)\n",
    "plt.xlabel(\"Cuisines\")\n",
    "plt.ylabel (\"No. of Orders\")\n",
    "plt.show()"
   ]
  },
  {
   "cell_type": "markdown",
   "id": "1c5b80a3",
   "metadata": {},
   "source": [
    "### Top Locations with Most Number of Restaurants"
   ]
  },
  {
   "cell_type": "code",
   "execution_count": 34,
   "id": "seeing-delta",
   "metadata": {},
   "outputs": [],
   "source": [
    "top_areas = pd.DataFrame(orders_df.groupby(by='location')['name'].nunique())\n",
    "top_areas.columns = ['count']\n",
    "top_areas.sort_values(by='count', ascending= False, inplace=True)"
   ]
  },
  {
   "cell_type": "code",
   "execution_count": 35,
   "id": "active-hunter",
   "metadata": {},
   "outputs": [
    {
     "data": {
      "image/png": "[encoded data removed]",
      "text/plain": [
       "<Figure size 864x432 with 1 Axes>"
      ]
     },
     "metadata": {},
     "output_type": "display_data"
    }
   ],
   "source": [
    "plt.rcParams['figure.figsize'] = (12,6)\n",
    "ax = top_areas[0:30].plot(kind='bar')\n",
    "plt.xlabel('Location', size = 12)\n",
    "plt.ylabel('No. of Restaurants', size = 12)\n",
    "plt.title('Top Locations with Most Number of Restaurants', size = 15)\n",
    "plt.show()"
   ]
  },
  {
   "cell_type": "markdown",
   "id": "1d280f06",
   "metadata": {},
   "source": [
    "### Top Areas with Most Number of Restaurants"
   ]
  },
  {
   "cell_type": "code",
   "execution_count": 36,
   "id": "920ea9da",
   "metadata": {},
   "outputs": [],
   "source": [
    "top_areas = pd.DataFrame(orders_df.groupby(by='area')['name'].nunique())\n",
    "top_areas.columns = ['count']\n",
    "top_areas.sort_values(by='count', ascending= False, inplace=True)"
   ]
  },
  {
   "cell_type": "code",
   "execution_count": 37,
   "id": "77ee3d93",
   "metadata": {},
   "outputs": [
    {
     "data": {
      "image/png": "[encoded data removed]",
      "text/plain": [
       "<Figure size 864x432 with 1 Axes>"
      ]
     },
     "metadata": {},
     "output_type": "display_data"
    }
   ],
   "source": [
    "plt.rcParams['figure.figsize'] = (12,6)\n",
    "ax = top_areas[0:30].plot(kind='bar')\n",
    "plt.xlabel('Areas', size = 12)\n",
    "plt.ylabel('No. of Restaurants', size = 12)\n",
    "plt.title('Top Areas with Most Number of Restaurants', size = 15)\n",
    "plt.show()"
   ]
  },
  {
   "cell_type": "markdown",
   "id": "realistic-reminder",
   "metadata": {},
   "source": [
    "## Encoding Columns"
   ]
  },
  {
   "cell_type": "markdown",
   "id": "decent-journalist",
   "metadata": {},
   "source": [
    "### Online Order Column"
   ]
  },
  {
   "cell_type": "code",
   "execution_count": 38,
   "id": "closing-tyler",
   "metadata": {},
   "outputs": [
    {
     "data": {
      "text/html": [
       "<div>\n",
       "<style scoped>\n",
       "    .dataframe tbody tr th:only-of-type {\n",
       "        vertical-align: middle;\n",
       "    }\n",
       "\n",
       "    .dataframe tbody tr th {\n",
       "        vertical-align: top;\n",
       "    }\n",
       "\n",
       "    .dataframe thead th {\n",
       "        text-align: right;\n",
       "    }\n",
       "</style>\n",
       "<table border=\"1\" class=\"dataframe\">\n",
       "  <thead>\n",
       "    <tr style=\"text-align: right;\">\n",
       "      <th></th>\n",
       "      <th>name</th>\n",
       "      <th>online_order</th>\n",
       "      <th>book_table</th>\n",
       "      <th>rate</th>\n",
       "      <th>votes</th>\n",
       "      <th>location</th>\n",
       "      <th>rest_type</th>\n",
       "      <th>cuisines</th>\n",
       "      <th>approx_cost</th>\n",
       "      <th>area</th>\n",
       "    </tr>\n",
       "  </thead>\n",
       "  <tbody>\n",
       "    <tr>\n",
       "      <th>0</th>\n",
       "      <td>Jalsa</td>\n",
       "      <td>1</td>\n",
       "      <td>Yes</td>\n",
       "      <td>4.1</td>\n",
       "      <td>775</td>\n",
       "      <td>Banashankari</td>\n",
       "      <td>Casual Dining</td>\n",
       "      <td>North Indian, Mughlai, Chinese</td>\n",
       "      <td>800.0</td>\n",
       "      <td>Banashankari</td>\n",
       "    </tr>\n",
       "    <tr>\n",
       "      <th>1</th>\n",
       "      <td>Spice Elephant</td>\n",
       "      <td>1</td>\n",
       "      <td>No</td>\n",
       "      <td>4.1</td>\n",
       "      <td>787</td>\n",
       "      <td>Banashankari</td>\n",
       "      <td>Casual Dining</td>\n",
       "      <td>Chinese, North Indian, Thai</td>\n",
       "      <td>800.0</td>\n",
       "      <td>Banashankari</td>\n",
       "    </tr>\n",
       "    <tr>\n",
       "      <th>2</th>\n",
       "      <td>San Churro Cafe</td>\n",
       "      <td>1</td>\n",
       "      <td>No</td>\n",
       "      <td>3.8</td>\n",
       "      <td>918</td>\n",
       "      <td>Banashankari</td>\n",
       "      <td>Cafe, Casual Dining</td>\n",
       "      <td>Cafe, Mexican, Italian</td>\n",
       "      <td>800.0</td>\n",
       "      <td>Banashankari</td>\n",
       "    </tr>\n",
       "    <tr>\n",
       "      <th>3</th>\n",
       "      <td>Addhuri Udupi Bhojana</td>\n",
       "      <td>0</td>\n",
       "      <td>No</td>\n",
       "      <td>3.7</td>\n",
       "      <td>88</td>\n",
       "      <td>Banashankari</td>\n",
       "      <td>Quick Bites</td>\n",
       "      <td>South Indian, North Indian</td>\n",
       "      <td>300.0</td>\n",
       "      <td>Banashankari</td>\n",
       "    </tr>\n",
       "    <tr>\n",
       "      <th>4</th>\n",
       "      <td>Grand Village</td>\n",
       "      <td>0</td>\n",
       "      <td>No</td>\n",
       "      <td>3.8</td>\n",
       "      <td>166</td>\n",
       "      <td>Basavanagudi</td>\n",
       "      <td>Casual Dining</td>\n",
       "      <td>North Indian, Rajasthani</td>\n",
       "      <td>600.0</td>\n",
       "      <td>Banashankari</td>\n",
       "    </tr>\n",
       "  </tbody>\n",
       "</table>\n",
       "</div>"
      ],
      "text/plain": [
       "                    name  online_order book_table  rate  votes      location  \\\n",
       "0                  Jalsa             1        Yes   4.1    775  Banashankari   \n",
       "1         Spice Elephant             1         No   4.1    787  Banashankari   \n",
       "2        San Churro Cafe             1         No   3.8    918  Banashankari   \n",
       "3  Addhuri Udupi Bhojana             0         No   3.7     88  Banashankari   \n",
       "4          Grand Village             0         No   3.8    166  Basavanagudi   \n",
       "\n",
       "             rest_type                        cuisines  approx_cost  \\\n",
       "0        Casual Dining  North Indian, Mughlai, Chinese        800.0   \n",
       "1        Casual Dining     Chinese, North Indian, Thai        800.0   \n",
       "2  Cafe, Casual Dining          Cafe, Mexican, Italian        800.0   \n",
       "3          Quick Bites      South Indian, North Indian        300.0   \n",
       "4        Casual Dining        North Indian, Rajasthani        600.0   \n",
       "\n",
       "           area  \n",
       "0  Banashankari  \n",
       "1  Banashankari  \n",
       "2  Banashankari  \n",
       "3  Banashankari  \n",
       "4  Banashankari  "
      ]
     },
     "execution_count": 38,
     "metadata": {},
     "output_type": "execute_result"
    }
   ],
   "source": [
    "orders_df['online_order'] = orders_df['online_order'].replace({\"Yes\": 1, \"No\" : 0})\n",
    "orders_df.head()"
   ]
  },
  {
   "cell_type": "markdown",
   "id": "nasty-therapist",
   "metadata": {},
   "source": [
    "\n",
    "<br>"
   ]
  },
  {
   "cell_type": "markdown",
   "id": "certified-productivity",
   "metadata": {},
   "source": [
    "### Book Table Column"
   ]
  },
  {
   "cell_type": "code",
   "execution_count": 39,
   "id": "lesser-guinea",
   "metadata": {},
   "outputs": [
    {
     "data": {
      "text/html": [
       "<div>\n",
       "<style scoped>\n",
       "    .dataframe tbody tr th:only-of-type {\n",
       "        vertical-align: middle;\n",
       "    }\n",
       "\n",
       "    .dataframe tbody tr th {\n",
       "        vertical-align: top;\n",
       "    }\n",
       "\n",
       "    .dataframe thead th {\n",
       "        text-align: right;\n",
       "    }\n",
       "</style>\n",
       "<table border=\"1\" class=\"dataframe\">\n",
       "  <thead>\n",
       "    <tr style=\"text-align: right;\">\n",
       "      <th></th>\n",
       "      <th>name</th>\n",
       "      <th>online_order</th>\n",
       "      <th>book_table</th>\n",
       "      <th>rate</th>\n",
       "      <th>votes</th>\n",
       "      <th>location</th>\n",
       "      <th>rest_type</th>\n",
       "      <th>cuisines</th>\n",
       "      <th>approx_cost</th>\n",
       "      <th>area</th>\n",
       "    </tr>\n",
       "  </thead>\n",
       "  <tbody>\n",
       "    <tr>\n",
       "      <th>0</th>\n",
       "      <td>Jalsa</td>\n",
       "      <td>1</td>\n",
       "      <td>1</td>\n",
       "      <td>4.1</td>\n",
       "      <td>775</td>\n",
       "      <td>Banashankari</td>\n",
       "      <td>Casual Dining</td>\n",
       "      <td>North Indian, Mughlai, Chinese</td>\n",
       "      <td>800.0</td>\n",
       "      <td>Banashankari</td>\n",
       "    </tr>\n",
       "    <tr>\n",
       "      <th>1</th>\n",
       "      <td>Spice Elephant</td>\n",
       "      <td>1</td>\n",
       "      <td>0</td>\n",
       "      <td>4.1</td>\n",
       "      <td>787</td>\n",
       "      <td>Banashankari</td>\n",
       "      <td>Casual Dining</td>\n",
       "      <td>Chinese, North Indian, Thai</td>\n",
       "      <td>800.0</td>\n",
       "      <td>Banashankari</td>\n",
       "    </tr>\n",
       "    <tr>\n",
       "      <th>2</th>\n",
       "      <td>San Churro Cafe</td>\n",
       "      <td>1</td>\n",
       "      <td>0</td>\n",
       "      <td>3.8</td>\n",
       "      <td>918</td>\n",
       "      <td>Banashankari</td>\n",
       "      <td>Cafe, Casual Dining</td>\n",
       "      <td>Cafe, Mexican, Italian</td>\n",
       "      <td>800.0</td>\n",
       "      <td>Banashankari</td>\n",
       "    </tr>\n",
       "    <tr>\n",
       "      <th>3</th>\n",
       "      <td>Addhuri Udupi Bhojana</td>\n",
       "      <td>0</td>\n",
       "      <td>0</td>\n",
       "      <td>3.7</td>\n",
       "      <td>88</td>\n",
       "      <td>Banashankari</td>\n",
       "      <td>Quick Bites</td>\n",
       "      <td>South Indian, North Indian</td>\n",
       "      <td>300.0</td>\n",
       "      <td>Banashankari</td>\n",
       "    </tr>\n",
       "    <tr>\n",
       "      <th>4</th>\n",
       "      <td>Grand Village</td>\n",
       "      <td>0</td>\n",
       "      <td>0</td>\n",
       "      <td>3.8</td>\n",
       "      <td>166</td>\n",
       "      <td>Basavanagudi</td>\n",
       "      <td>Casual Dining</td>\n",
       "      <td>North Indian, Rajasthani</td>\n",
       "      <td>600.0</td>\n",
       "      <td>Banashankari</td>\n",
       "    </tr>\n",
       "  </tbody>\n",
       "</table>\n",
       "</div>"
      ],
      "text/plain": [
       "                    name  online_order  book_table  rate  votes      location  \\\n",
       "0                  Jalsa             1           1   4.1    775  Banashankari   \n",
       "1         Spice Elephant             1           0   4.1    787  Banashankari   \n",
       "2        San Churro Cafe             1           0   3.8    918  Banashankari   \n",
       "3  Addhuri Udupi Bhojana             0           0   3.7     88  Banashankari   \n",
       "4          Grand Village             0           0   3.8    166  Basavanagudi   \n",
       "\n",
       "             rest_type                        cuisines  approx_cost  \\\n",
       "0        Casual Dining  North Indian, Mughlai, Chinese        800.0   \n",
       "1        Casual Dining     Chinese, North Indian, Thai        800.0   \n",
       "2  Cafe, Casual Dining          Cafe, Mexican, Italian        800.0   \n",
       "3          Quick Bites      South Indian, North Indian        300.0   \n",
       "4        Casual Dining        North Indian, Rajasthani        600.0   \n",
       "\n",
       "           area  \n",
       "0  Banashankari  \n",
       "1  Banashankari  \n",
       "2  Banashankari  \n",
       "3  Banashankari  \n",
       "4  Banashankari  "
      ]
     },
     "execution_count": 39,
     "metadata": {},
     "output_type": "execute_result"
    }
   ],
   "source": [
    "orders_df['book_table'] = orders_df['book_table'].replace({\"Yes\": 1, \"No\" : 0})\n",
    "orders_df.head()"
   ]
  },
  {
   "cell_type": "markdown",
   "id": "interior-priority",
   "metadata": {},
   "source": [
    "<br>"
   ]
  },
  {
   "cell_type": "markdown",
   "id": "encouraging-tension",
   "metadata": {},
   "source": [
    "### Rest Type Column"
   ]
  },
  {
   "cell_type": "code",
   "execution_count": 40,
   "id": "alleged-daniel",
   "metadata": {},
   "outputs": [
    {
     "data": {
      "text/html": [
       "<div>\n",
       "<style scoped>\n",
       "    .dataframe tbody tr th:only-of-type {\n",
       "        vertical-align: middle;\n",
       "    }\n",
       "\n",
       "    .dataframe tbody tr th {\n",
       "        vertical-align: top;\n",
       "    }\n",
       "\n",
       "    .dataframe thead th {\n",
       "        text-align: right;\n",
       "    }\n",
       "</style>\n",
       "<table border=\"1\" class=\"dataframe\">\n",
       "  <thead>\n",
       "    <tr style=\"text-align: right;\">\n",
       "      <th></th>\n",
       "      <th>rest_type</th>\n",
       "      <th>Bakery</th>\n",
       "      <th>Food Truck</th>\n",
       "      <th>Pub</th>\n",
       "      <th>Club</th>\n",
       "      <th>Bhojanalya</th>\n",
       "      <th>Delivery</th>\n",
       "      <th>Quick Bites</th>\n",
       "      <th>Irani Cafee</th>\n",
       "      <th>Takeaway</th>\n",
       "      <th>...</th>\n",
       "      <th>Microbrewery</th>\n",
       "      <th>Kiosk</th>\n",
       "      <th>Fine Dining</th>\n",
       "      <th>Lounge</th>\n",
       "      <th>Meat Shop</th>\n",
       "      <th>Bar</th>\n",
       "      <th>Pop Up</th>\n",
       "      <th>Confectionery</th>\n",
       "      <th>Mess</th>\n",
       "      <th>Dhaba</th>\n",
       "    </tr>\n",
       "  </thead>\n",
       "  <tbody>\n",
       "    <tr>\n",
       "      <th>0</th>\n",
       "      <td>Casual Dining</td>\n",
       "      <td>0</td>\n",
       "      <td>0</td>\n",
       "      <td>0</td>\n",
       "      <td>0</td>\n",
       "      <td>0</td>\n",
       "      <td>0</td>\n",
       "      <td>0</td>\n",
       "      <td>0</td>\n",
       "      <td>0</td>\n",
       "      <td>...</td>\n",
       "      <td>0</td>\n",
       "      <td>0</td>\n",
       "      <td>0</td>\n",
       "      <td>0</td>\n",
       "      <td>0</td>\n",
       "      <td>0</td>\n",
       "      <td>0</td>\n",
       "      <td>0</td>\n",
       "      <td>0</td>\n",
       "      <td>0</td>\n",
       "    </tr>\n",
       "    <tr>\n",
       "      <th>1</th>\n",
       "      <td>Casual Dining</td>\n",
       "      <td>0</td>\n",
       "      <td>0</td>\n",
       "      <td>0</td>\n",
       "      <td>0</td>\n",
       "      <td>0</td>\n",
       "      <td>0</td>\n",
       "      <td>0</td>\n",
       "      <td>0</td>\n",
       "      <td>0</td>\n",
       "      <td>...</td>\n",
       "      <td>0</td>\n",
       "      <td>0</td>\n",
       "      <td>0</td>\n",
       "      <td>0</td>\n",
       "      <td>0</td>\n",
       "      <td>0</td>\n",
       "      <td>0</td>\n",
       "      <td>0</td>\n",
       "      <td>0</td>\n",
       "      <td>0</td>\n",
       "    </tr>\n",
       "    <tr>\n",
       "      <th>2</th>\n",
       "      <td>Cafe, Casual Dining</td>\n",
       "      <td>0</td>\n",
       "      <td>0</td>\n",
       "      <td>0</td>\n",
       "      <td>0</td>\n",
       "      <td>0</td>\n",
       "      <td>0</td>\n",
       "      <td>0</td>\n",
       "      <td>0</td>\n",
       "      <td>0</td>\n",
       "      <td>...</td>\n",
       "      <td>0</td>\n",
       "      <td>0</td>\n",
       "      <td>0</td>\n",
       "      <td>0</td>\n",
       "      <td>0</td>\n",
       "      <td>0</td>\n",
       "      <td>0</td>\n",
       "      <td>0</td>\n",
       "      <td>0</td>\n",
       "      <td>0</td>\n",
       "    </tr>\n",
       "    <tr>\n",
       "      <th>3</th>\n",
       "      <td>Quick Bites</td>\n",
       "      <td>0</td>\n",
       "      <td>0</td>\n",
       "      <td>0</td>\n",
       "      <td>0</td>\n",
       "      <td>0</td>\n",
       "      <td>0</td>\n",
       "      <td>0</td>\n",
       "      <td>0</td>\n",
       "      <td>0</td>\n",
       "      <td>...</td>\n",
       "      <td>0</td>\n",
       "      <td>0</td>\n",
       "      <td>0</td>\n",
       "      <td>0</td>\n",
       "      <td>0</td>\n",
       "      <td>0</td>\n",
       "      <td>0</td>\n",
       "      <td>0</td>\n",
       "      <td>0</td>\n",
       "      <td>0</td>\n",
       "    </tr>\n",
       "    <tr>\n",
       "      <th>4</th>\n",
       "      <td>Casual Dining</td>\n",
       "      <td>0</td>\n",
       "      <td>0</td>\n",
       "      <td>0</td>\n",
       "      <td>0</td>\n",
       "      <td>0</td>\n",
       "      <td>0</td>\n",
       "      <td>0</td>\n",
       "      <td>0</td>\n",
       "      <td>0</td>\n",
       "      <td>...</td>\n",
       "      <td>0</td>\n",
       "      <td>0</td>\n",
       "      <td>0</td>\n",
       "      <td>0</td>\n",
       "      <td>0</td>\n",
       "      <td>0</td>\n",
       "      <td>0</td>\n",
       "      <td>0</td>\n",
       "      <td>0</td>\n",
       "      <td>0</td>\n",
       "    </tr>\n",
       "  </tbody>\n",
       "</table>\n",
       "<p>5 rows × 26 columns</p>\n",
       "</div>"
      ],
      "text/plain": [
       "             rest_type  Bakery  Food Truck  Pub  Club  Bhojanalya  Delivery  \\\n",
       "0        Casual Dining       0           0    0     0           0         0   \n",
       "1        Casual Dining       0           0    0     0           0         0   \n",
       "2  Cafe, Casual Dining       0           0    0     0           0         0   \n",
       "3          Quick Bites       0           0    0     0           0         0   \n",
       "4        Casual Dining       0           0    0     0           0         0   \n",
       "\n",
       "   Quick Bites  Irani Cafee  Takeaway  ...  Microbrewery  Kiosk  Fine Dining  \\\n",
       "0            0            0         0  ...             0      0            0   \n",
       "1            0            0         0  ...             0      0            0   \n",
       "2            0            0         0  ...             0      0            0   \n",
       "3            0            0         0  ...             0      0            0   \n",
       "4            0            0         0  ...             0      0            0   \n",
       "\n",
       "   Lounge  Meat Shop  Bar  Pop Up  Confectionery  Mess  Dhaba  \n",
       "0       0          0    0       0              0     0      0  \n",
       "1       0          0    0       0              0     0      0  \n",
       "2       0          0    0       0              0     0      0  \n",
       "3       0          0    0       0              0     0      0  \n",
       "4       0          0    0       0              0     0      0  \n",
       "\n",
       "[5 rows x 26 columns]"
      ]
     },
     "execution_count": 40,
     "metadata": {},
     "output_type": "execute_result"
    }
   ],
   "source": [
    "rest_df = pd.DataFrame(orders_df['rest_type'])\n",
    "rts = list(rest_df.rest_type.str.split(\", \"))\n",
    "unique_rts = list(set([rt for sub_list in rts for rt in sub_list]))\n",
    "\n",
    "for rt in unique_rts:\n",
    "    rest_df[rt] = int(0)\n",
    "    \n",
    "rest_df.head()"
   ]
  },
  {
   "cell_type": "code",
   "execution_count": 41,
   "id": "norman-trail",
   "metadata": {
    "scrolled": true
   },
   "outputs": [],
   "source": [
    "count = 0\n",
    "for i in rts:\n",
    "    rest_df.loc[count, i] = int(1)       \n",
    "    count+=1"
   ]
  },
  {
   "cell_type": "code",
   "execution_count": 42,
   "id": "wicked-literature",
   "metadata": {},
   "outputs": [
    {
     "data": {
      "text/html": [
       "<div>\n",
       "<style scoped>\n",
       "    .dataframe tbody tr th:only-of-type {\n",
       "        vertical-align: middle;\n",
       "    }\n",
       "\n",
       "    .dataframe tbody tr th {\n",
       "        vertical-align: top;\n",
       "    }\n",
       "\n",
       "    .dataframe thead th {\n",
       "        text-align: right;\n",
       "    }\n",
       "</style>\n",
       "<table border=\"1\" class=\"dataframe\">\n",
       "  <thead>\n",
       "    <tr style=\"text-align: right;\">\n",
       "      <th></th>\n",
       "      <th>rest_type</th>\n",
       "      <th>Bakery</th>\n",
       "      <th>Food Truck</th>\n",
       "      <th>Pub</th>\n",
       "      <th>Club</th>\n",
       "      <th>Bhojanalya</th>\n",
       "      <th>Delivery</th>\n",
       "      <th>Quick Bites</th>\n",
       "      <th>Irani Cafee</th>\n",
       "      <th>Takeaway</th>\n",
       "      <th>...</th>\n",
       "      <th>Microbrewery</th>\n",
       "      <th>Kiosk</th>\n",
       "      <th>Fine Dining</th>\n",
       "      <th>Lounge</th>\n",
       "      <th>Meat Shop</th>\n",
       "      <th>Bar</th>\n",
       "      <th>Pop Up</th>\n",
       "      <th>Confectionery</th>\n",
       "      <th>Mess</th>\n",
       "      <th>Dhaba</th>\n",
       "    </tr>\n",
       "  </thead>\n",
       "  <tbody>\n",
       "    <tr>\n",
       "      <th>0</th>\n",
       "      <td>Casual Dining</td>\n",
       "      <td>0</td>\n",
       "      <td>0</td>\n",
       "      <td>0</td>\n",
       "      <td>0</td>\n",
       "      <td>0</td>\n",
       "      <td>0</td>\n",
       "      <td>0</td>\n",
       "      <td>0</td>\n",
       "      <td>0</td>\n",
       "      <td>...</td>\n",
       "      <td>0</td>\n",
       "      <td>0</td>\n",
       "      <td>0</td>\n",
       "      <td>0</td>\n",
       "      <td>0</td>\n",
       "      <td>0</td>\n",
       "      <td>0</td>\n",
       "      <td>0</td>\n",
       "      <td>0</td>\n",
       "      <td>0</td>\n",
       "    </tr>\n",
       "    <tr>\n",
       "      <th>1</th>\n",
       "      <td>Casual Dining</td>\n",
       "      <td>0</td>\n",
       "      <td>0</td>\n",
       "      <td>0</td>\n",
       "      <td>0</td>\n",
       "      <td>0</td>\n",
       "      <td>0</td>\n",
       "      <td>0</td>\n",
       "      <td>0</td>\n",
       "      <td>0</td>\n",
       "      <td>...</td>\n",
       "      <td>0</td>\n",
       "      <td>0</td>\n",
       "      <td>0</td>\n",
       "      <td>0</td>\n",
       "      <td>0</td>\n",
       "      <td>0</td>\n",
       "      <td>0</td>\n",
       "      <td>0</td>\n",
       "      <td>0</td>\n",
       "      <td>0</td>\n",
       "    </tr>\n",
       "    <tr>\n",
       "      <th>2</th>\n",
       "      <td>Cafe, Casual Dining</td>\n",
       "      <td>0</td>\n",
       "      <td>0</td>\n",
       "      <td>0</td>\n",
       "      <td>0</td>\n",
       "      <td>0</td>\n",
       "      <td>0</td>\n",
       "      <td>0</td>\n",
       "      <td>0</td>\n",
       "      <td>0</td>\n",
       "      <td>...</td>\n",
       "      <td>0</td>\n",
       "      <td>0</td>\n",
       "      <td>0</td>\n",
       "      <td>0</td>\n",
       "      <td>0</td>\n",
       "      <td>0</td>\n",
       "      <td>0</td>\n",
       "      <td>0</td>\n",
       "      <td>0</td>\n",
       "      <td>0</td>\n",
       "    </tr>\n",
       "    <tr>\n",
       "      <th>3</th>\n",
       "      <td>Quick Bites</td>\n",
       "      <td>0</td>\n",
       "      <td>0</td>\n",
       "      <td>0</td>\n",
       "      <td>0</td>\n",
       "      <td>0</td>\n",
       "      <td>0</td>\n",
       "      <td>1</td>\n",
       "      <td>0</td>\n",
       "      <td>0</td>\n",
       "      <td>...</td>\n",
       "      <td>0</td>\n",
       "      <td>0</td>\n",
       "      <td>0</td>\n",
       "      <td>0</td>\n",
       "      <td>0</td>\n",
       "      <td>0</td>\n",
       "      <td>0</td>\n",
       "      <td>0</td>\n",
       "      <td>0</td>\n",
       "      <td>0</td>\n",
       "    </tr>\n",
       "    <tr>\n",
       "      <th>4</th>\n",
       "      <td>Casual Dining</td>\n",
       "      <td>0</td>\n",
       "      <td>0</td>\n",
       "      <td>0</td>\n",
       "      <td>0</td>\n",
       "      <td>0</td>\n",
       "      <td>0</td>\n",
       "      <td>0</td>\n",
       "      <td>0</td>\n",
       "      <td>0</td>\n",
       "      <td>...</td>\n",
       "      <td>0</td>\n",
       "      <td>0</td>\n",
       "      <td>0</td>\n",
       "      <td>0</td>\n",
       "      <td>0</td>\n",
       "      <td>0</td>\n",
       "      <td>0</td>\n",
       "      <td>0</td>\n",
       "      <td>0</td>\n",
       "      <td>0</td>\n",
       "    </tr>\n",
       "  </tbody>\n",
       "</table>\n",
       "<p>5 rows × 26 columns</p>\n",
       "</div>"
      ],
      "text/plain": [
       "             rest_type  Bakery  Food Truck  Pub  Club  Bhojanalya  Delivery  \\\n",
       "0        Casual Dining       0           0    0     0           0         0   \n",
       "1        Casual Dining       0           0    0     0           0         0   \n",
       "2  Cafe, Casual Dining       0           0    0     0           0         0   \n",
       "3          Quick Bites       0           0    0     0           0         0   \n",
       "4        Casual Dining       0           0    0     0           0         0   \n",
       "\n",
       "   Quick Bites  Irani Cafee  Takeaway  ...  Microbrewery  Kiosk  Fine Dining  \\\n",
       "0            0            0         0  ...             0      0            0   \n",
       "1            0            0         0  ...             0      0            0   \n",
       "2            0            0         0  ...             0      0            0   \n",
       "3            1            0         0  ...             0      0            0   \n",
       "4            0            0         0  ...             0      0            0   \n",
       "\n",
       "   Lounge  Meat Shop  Bar  Pop Up  Confectionery  Mess  Dhaba  \n",
       "0       0          0    0       0              0     0      0  \n",
       "1       0          0    0       0              0     0      0  \n",
       "2       0          0    0       0              0     0      0  \n",
       "3       0          0    0       0              0     0      0  \n",
       "4       0          0    0       0              0     0      0  \n",
       "\n",
       "[5 rows x 26 columns]"
      ]
     },
     "execution_count": 42,
     "metadata": {},
     "output_type": "execute_result"
    }
   ],
   "source": [
    "rest_df.head()"
   ]
  },
  {
   "cell_type": "code",
   "execution_count": 43,
   "id": "excess-medium",
   "metadata": {},
   "outputs": [
    {
     "data": {
      "text/html": [
       "<div>\n",
       "<style scoped>\n",
       "    .dataframe tbody tr th:only-of-type {\n",
       "        vertical-align: middle;\n",
       "    }\n",
       "\n",
       "    .dataframe tbody tr th {\n",
       "        vertical-align: top;\n",
       "    }\n",
       "\n",
       "    .dataframe thead th {\n",
       "        text-align: right;\n",
       "    }\n",
       "</style>\n",
       "<table border=\"1\" class=\"dataframe\">\n",
       "  <thead>\n",
       "    <tr style=\"text-align: right;\">\n",
       "      <th></th>\n",
       "      <th>Bakery</th>\n",
       "      <th>Food Truck</th>\n",
       "      <th>Pub</th>\n",
       "      <th>Club</th>\n",
       "      <th>Bhojanalya</th>\n",
       "      <th>Delivery</th>\n",
       "      <th>Quick Bites</th>\n",
       "      <th>Irani Cafee</th>\n",
       "      <th>Takeaway</th>\n",
       "      <th>Dessert Parlor</th>\n",
       "      <th>...</th>\n",
       "      <th>Microbrewery</th>\n",
       "      <th>Kiosk</th>\n",
       "      <th>Fine Dining</th>\n",
       "      <th>Lounge</th>\n",
       "      <th>Meat Shop</th>\n",
       "      <th>Bar</th>\n",
       "      <th>Pop Up</th>\n",
       "      <th>Confectionery</th>\n",
       "      <th>Mess</th>\n",
       "      <th>Dhaba</th>\n",
       "    </tr>\n",
       "  </thead>\n",
       "  <tbody>\n",
       "    <tr>\n",
       "      <th>0</th>\n",
       "      <td>0</td>\n",
       "      <td>0</td>\n",
       "      <td>0</td>\n",
       "      <td>0</td>\n",
       "      <td>0</td>\n",
       "      <td>0</td>\n",
       "      <td>0</td>\n",
       "      <td>0</td>\n",
       "      <td>0</td>\n",
       "      <td>0</td>\n",
       "      <td>...</td>\n",
       "      <td>0</td>\n",
       "      <td>0</td>\n",
       "      <td>0</td>\n",
       "      <td>0</td>\n",
       "      <td>0</td>\n",
       "      <td>0</td>\n",
       "      <td>0</td>\n",
       "      <td>0</td>\n",
       "      <td>0</td>\n",
       "      <td>0</td>\n",
       "    </tr>\n",
       "    <tr>\n",
       "      <th>1</th>\n",
       "      <td>0</td>\n",
       "      <td>0</td>\n",
       "      <td>0</td>\n",
       "      <td>0</td>\n",
       "      <td>0</td>\n",
       "      <td>0</td>\n",
       "      <td>0</td>\n",
       "      <td>0</td>\n",
       "      <td>0</td>\n",
       "      <td>0</td>\n",
       "      <td>...</td>\n",
       "      <td>0</td>\n",
       "      <td>0</td>\n",
       "      <td>0</td>\n",
       "      <td>0</td>\n",
       "      <td>0</td>\n",
       "      <td>0</td>\n",
       "      <td>0</td>\n",
       "      <td>0</td>\n",
       "      <td>0</td>\n",
       "      <td>0</td>\n",
       "    </tr>\n",
       "    <tr>\n",
       "      <th>2</th>\n",
       "      <td>0</td>\n",
       "      <td>0</td>\n",
       "      <td>0</td>\n",
       "      <td>0</td>\n",
       "      <td>0</td>\n",
       "      <td>0</td>\n",
       "      <td>0</td>\n",
       "      <td>0</td>\n",
       "      <td>0</td>\n",
       "      <td>0</td>\n",
       "      <td>...</td>\n",
       "      <td>0</td>\n",
       "      <td>0</td>\n",
       "      <td>0</td>\n",
       "      <td>0</td>\n",
       "      <td>0</td>\n",
       "      <td>0</td>\n",
       "      <td>0</td>\n",
       "      <td>0</td>\n",
       "      <td>0</td>\n",
       "      <td>0</td>\n",
       "    </tr>\n",
       "    <tr>\n",
       "      <th>3</th>\n",
       "      <td>0</td>\n",
       "      <td>0</td>\n",
       "      <td>0</td>\n",
       "      <td>0</td>\n",
       "      <td>0</td>\n",
       "      <td>0</td>\n",
       "      <td>1</td>\n",
       "      <td>0</td>\n",
       "      <td>0</td>\n",
       "      <td>0</td>\n",
       "      <td>...</td>\n",
       "      <td>0</td>\n",
       "      <td>0</td>\n",
       "      <td>0</td>\n",
       "      <td>0</td>\n",
       "      <td>0</td>\n",
       "      <td>0</td>\n",
       "      <td>0</td>\n",
       "      <td>0</td>\n",
       "      <td>0</td>\n",
       "      <td>0</td>\n",
       "    </tr>\n",
       "    <tr>\n",
       "      <th>4</th>\n",
       "      <td>0</td>\n",
       "      <td>0</td>\n",
       "      <td>0</td>\n",
       "      <td>0</td>\n",
       "      <td>0</td>\n",
       "      <td>0</td>\n",
       "      <td>0</td>\n",
       "      <td>0</td>\n",
       "      <td>0</td>\n",
       "      <td>0</td>\n",
       "      <td>...</td>\n",
       "      <td>0</td>\n",
       "      <td>0</td>\n",
       "      <td>0</td>\n",
       "      <td>0</td>\n",
       "      <td>0</td>\n",
       "      <td>0</td>\n",
       "      <td>0</td>\n",
       "      <td>0</td>\n",
       "      <td>0</td>\n",
       "      <td>0</td>\n",
       "    </tr>\n",
       "  </tbody>\n",
       "</table>\n",
       "<p>5 rows × 25 columns</p>\n",
       "</div>"
      ],
      "text/plain": [
       "   Bakery  Food Truck  Pub  Club  Bhojanalya  Delivery  Quick Bites  \\\n",
       "0       0           0    0     0           0         0            0   \n",
       "1       0           0    0     0           0         0            0   \n",
       "2       0           0    0     0           0         0            0   \n",
       "3       0           0    0     0           0         0            1   \n",
       "4       0           0    0     0           0         0            0   \n",
       "\n",
       "   Irani Cafee  Takeaway  Dessert Parlor  ...  Microbrewery  Kiosk  \\\n",
       "0            0         0               0  ...             0      0   \n",
       "1            0         0               0  ...             0      0   \n",
       "2            0         0               0  ...             0      0   \n",
       "3            0         0               0  ...             0      0   \n",
       "4            0         0               0  ...             0      0   \n",
       "\n",
       "   Fine Dining  Lounge  Meat Shop  Bar  Pop Up  Confectionery  Mess  Dhaba  \n",
       "0            0       0          0    0       0              0     0      0  \n",
       "1            0       0          0    0       0              0     0      0  \n",
       "2            0       0          0    0       0              0     0      0  \n",
       "3            0       0          0    0       0              0     0      0  \n",
       "4            0       0          0    0       0              0     0      0  \n",
       "\n",
       "[5 rows x 25 columns]"
      ]
     },
     "execution_count": 43,
     "metadata": {},
     "output_type": "execute_result"
    }
   ],
   "source": [
    "rest_df.drop(['rest_type'], axis = 1, inplace=True)\n",
    "rest_df.head()"
   ]
  },
  {
   "cell_type": "markdown",
   "id": "scenic-complex",
   "metadata": {},
   "source": [
    "<br>"
   ]
  },
  {
   "cell_type": "markdown",
   "id": "aboriginal-symphony",
   "metadata": {},
   "source": [
    "### Cuisines Column"
   ]
  },
  {
   "cell_type": "code",
   "execution_count": 44,
   "id": "consistent-redhead",
   "metadata": {},
   "outputs": [
    {
     "data": {
      "text/html": [
       "<div>\n",
       "<style scoped>\n",
       "    .dataframe tbody tr th:only-of-type {\n",
       "        vertical-align: middle;\n",
       "    }\n",
       "\n",
       "    .dataframe tbody tr th {\n",
       "        vertical-align: top;\n",
       "    }\n",
       "\n",
       "    .dataframe thead th {\n",
       "        text-align: right;\n",
       "    }\n",
       "</style>\n",
       "<table border=\"1\" class=\"dataframe\">\n",
       "  <thead>\n",
       "    <tr style=\"text-align: right;\">\n",
       "      <th></th>\n",
       "      <th>cuisines</th>\n",
       "      <th>Australian</th>\n",
       "      <th>Tibetan</th>\n",
       "      <th>Cantonese</th>\n",
       "      <th>Mithai</th>\n",
       "      <th>Desserts</th>\n",
       "      <th>British</th>\n",
       "      <th>Tea</th>\n",
       "      <th>Grill</th>\n",
       "      <th>Hot dogs</th>\n",
       "      <th>...</th>\n",
       "      <th>Tamil</th>\n",
       "      <th>Portuguese</th>\n",
       "      <th>South American</th>\n",
       "      <th>Awadhi</th>\n",
       "      <th>Belgian</th>\n",
       "      <th>Street Food</th>\n",
       "      <th>Turkish</th>\n",
       "      <th>Rolls</th>\n",
       "      <th>Asian</th>\n",
       "      <th>Burmese</th>\n",
       "    </tr>\n",
       "  </thead>\n",
       "  <tbody>\n",
       "    <tr>\n",
       "      <th>0</th>\n",
       "      <td>North Indian, Mughlai, Chinese</td>\n",
       "      <td>0</td>\n",
       "      <td>0</td>\n",
       "      <td>0</td>\n",
       "      <td>0</td>\n",
       "      <td>0</td>\n",
       "      <td>0</td>\n",
       "      <td>0</td>\n",
       "      <td>0</td>\n",
       "      <td>0</td>\n",
       "      <td>...</td>\n",
       "      <td>0</td>\n",
       "      <td>0</td>\n",
       "      <td>0</td>\n",
       "      <td>0</td>\n",
       "      <td>0</td>\n",
       "      <td>0</td>\n",
       "      <td>0</td>\n",
       "      <td>0</td>\n",
       "      <td>0</td>\n",
       "      <td>0</td>\n",
       "    </tr>\n",
       "    <tr>\n",
       "      <th>1</th>\n",
       "      <td>Chinese, North Indian, Thai</td>\n",
       "      <td>0</td>\n",
       "      <td>0</td>\n",
       "      <td>0</td>\n",
       "      <td>0</td>\n",
       "      <td>0</td>\n",
       "      <td>0</td>\n",
       "      <td>0</td>\n",
       "      <td>0</td>\n",
       "      <td>0</td>\n",
       "      <td>...</td>\n",
       "      <td>0</td>\n",
       "      <td>0</td>\n",
       "      <td>0</td>\n",
       "      <td>0</td>\n",
       "      <td>0</td>\n",
       "      <td>0</td>\n",
       "      <td>0</td>\n",
       "      <td>0</td>\n",
       "      <td>0</td>\n",
       "      <td>0</td>\n",
       "    </tr>\n",
       "    <tr>\n",
       "      <th>2</th>\n",
       "      <td>Cafe, Mexican, Italian</td>\n",
       "      <td>0</td>\n",
       "      <td>0</td>\n",
       "      <td>0</td>\n",
       "      <td>0</td>\n",
       "      <td>0</td>\n",
       "      <td>0</td>\n",
       "      <td>0</td>\n",
       "      <td>0</td>\n",
       "      <td>0</td>\n",
       "      <td>...</td>\n",
       "      <td>0</td>\n",
       "      <td>0</td>\n",
       "      <td>0</td>\n",
       "      <td>0</td>\n",
       "      <td>0</td>\n",
       "      <td>0</td>\n",
       "      <td>0</td>\n",
       "      <td>0</td>\n",
       "      <td>0</td>\n",
       "      <td>0</td>\n",
       "    </tr>\n",
       "    <tr>\n",
       "      <th>3</th>\n",
       "      <td>South Indian, North Indian</td>\n",
       "      <td>0</td>\n",
       "      <td>0</td>\n",
       "      <td>0</td>\n",
       "      <td>0</td>\n",
       "      <td>0</td>\n",
       "      <td>0</td>\n",
       "      <td>0</td>\n",
       "      <td>0</td>\n",
       "      <td>0</td>\n",
       "      <td>...</td>\n",
       "      <td>0</td>\n",
       "      <td>0</td>\n",
       "      <td>0</td>\n",
       "      <td>0</td>\n",
       "      <td>0</td>\n",
       "      <td>0</td>\n",
       "      <td>0</td>\n",
       "      <td>0</td>\n",
       "      <td>0</td>\n",
       "      <td>0</td>\n",
       "    </tr>\n",
       "    <tr>\n",
       "      <th>4</th>\n",
       "      <td>North Indian, Rajasthani</td>\n",
       "      <td>0</td>\n",
       "      <td>0</td>\n",
       "      <td>0</td>\n",
       "      <td>0</td>\n",
       "      <td>0</td>\n",
       "      <td>0</td>\n",
       "      <td>0</td>\n",
       "      <td>0</td>\n",
       "      <td>0</td>\n",
       "      <td>...</td>\n",
       "      <td>0</td>\n",
       "      <td>0</td>\n",
       "      <td>0</td>\n",
       "      <td>0</td>\n",
       "      <td>0</td>\n",
       "      <td>0</td>\n",
       "      <td>0</td>\n",
       "      <td>0</td>\n",
       "      <td>0</td>\n",
       "      <td>0</td>\n",
       "    </tr>\n",
       "  </tbody>\n",
       "</table>\n",
       "<p>5 rows × 106 columns</p>\n",
       "</div>"
      ],
      "text/plain": [
       "                         cuisines  Australian  Tibetan  Cantonese  Mithai  \\\n",
       "0  North Indian, Mughlai, Chinese           0        0          0       0   \n",
       "1     Chinese, North Indian, Thai           0        0          0       0   \n",
       "2          Cafe, Mexican, Italian           0        0          0       0   \n",
       "3      South Indian, North Indian           0        0          0       0   \n",
       "4        North Indian, Rajasthani           0        0          0       0   \n",
       "\n",
       "   Desserts  British  Tea  Grill  Hot dogs  ...  Tamil  Portuguese  \\\n",
       "0         0        0    0      0         0  ...      0           0   \n",
       "1         0        0    0      0         0  ...      0           0   \n",
       "2         0        0    0      0         0  ...      0           0   \n",
       "3         0        0    0      0         0  ...      0           0   \n",
       "4         0        0    0      0         0  ...      0           0   \n",
       "\n",
       "   South American  Awadhi  Belgian  Street Food  Turkish  Rolls  Asian  \\\n",
       "0               0       0        0            0        0      0      0   \n",
       "1               0       0        0            0        0      0      0   \n",
       "2               0       0        0            0        0      0      0   \n",
       "3               0       0        0            0        0      0      0   \n",
       "4               0       0        0            0        0      0      0   \n",
       "\n",
       "   Burmese  \n",
       "0        0  \n",
       "1        0  \n",
       "2        0  \n",
       "3        0  \n",
       "4        0  \n",
       "\n",
       "[5 rows x 106 columns]"
      ]
     },
     "execution_count": 44,
     "metadata": {},
     "output_type": "execute_result"
    }
   ],
   "source": [
    "cuisines_df = pd.DataFrame(orders_df['cuisines'])\n",
    "cuisines = list(cuisines_df.cuisines.str.split(\", \"))\n",
    "unique_cuisines = list(set([cs for sub_list in cuisines for cs in sub_list]))\n",
    "unique_cuisines.remove(\"Cafe\") \n",
    "unique_cuisines.remove(\"Bakery\")\n",
    "\n",
    "for cs in unique_cuisines:\n",
    "    cuisines_df[cs] = 0   \n",
    "    \n",
    "cuisines_df.head()"
   ]
  },
  {
   "cell_type": "code",
   "execution_count": 45,
   "id": "intended-history",
   "metadata": {},
   "outputs": [],
   "source": [
    "corrected_cuisines = []\n",
    "for i in cuisines:\n",
    "    if \"Cafe\" in i:\n",
    "        i.remove(\"Cafe\")\n",
    "        \n",
    "    if \"Bakery\" in i:\n",
    "        i.remove(\"Bakery\")\n",
    "        \n",
    "    corrected_cuisines.append(list(set(i)))"
   ]
  },
  {
   "cell_type": "code",
   "execution_count": 46,
   "id": "knowing-stevens",
   "metadata": {},
   "outputs": [],
   "source": [
    "count = 0\n",
    "for i in corrected_cuisines:\n",
    "    cuisines_df.loc[count, i] = int(1)\n",
    "    count+=1"
   ]
  },
  {
   "cell_type": "code",
   "execution_count": 47,
   "id": "substantial-entity",
   "metadata": {},
   "outputs": [
    {
     "data": {
      "text/html": [
       "<div>\n",
       "<style scoped>\n",
       "    .dataframe tbody tr th:only-of-type {\n",
       "        vertical-align: middle;\n",
       "    }\n",
       "\n",
       "    .dataframe tbody tr th {\n",
       "        vertical-align: top;\n",
       "    }\n",
       "\n",
       "    .dataframe thead th {\n",
       "        text-align: right;\n",
       "    }\n",
       "</style>\n",
       "<table border=\"1\" class=\"dataframe\">\n",
       "  <thead>\n",
       "    <tr style=\"text-align: right;\">\n",
       "      <th></th>\n",
       "      <th>cuisines</th>\n",
       "      <th>Australian</th>\n",
       "      <th>Tibetan</th>\n",
       "      <th>Cantonese</th>\n",
       "      <th>Mithai</th>\n",
       "      <th>Desserts</th>\n",
       "      <th>British</th>\n",
       "      <th>Tea</th>\n",
       "      <th>Grill</th>\n",
       "      <th>Hot dogs</th>\n",
       "      <th>...</th>\n",
       "      <th>Tamil</th>\n",
       "      <th>Portuguese</th>\n",
       "      <th>South American</th>\n",
       "      <th>Awadhi</th>\n",
       "      <th>Belgian</th>\n",
       "      <th>Street Food</th>\n",
       "      <th>Turkish</th>\n",
       "      <th>Rolls</th>\n",
       "      <th>Asian</th>\n",
       "      <th>Burmese</th>\n",
       "    </tr>\n",
       "  </thead>\n",
       "  <tbody>\n",
       "    <tr>\n",
       "      <th>0</th>\n",
       "      <td>North Indian, Mughlai, Chinese</td>\n",
       "      <td>0</td>\n",
       "      <td>0</td>\n",
       "      <td>0</td>\n",
       "      <td>0</td>\n",
       "      <td>0</td>\n",
       "      <td>0</td>\n",
       "      <td>0</td>\n",
       "      <td>0</td>\n",
       "      <td>0</td>\n",
       "      <td>...</td>\n",
       "      <td>0</td>\n",
       "      <td>0</td>\n",
       "      <td>0</td>\n",
       "      <td>0</td>\n",
       "      <td>0</td>\n",
       "      <td>0</td>\n",
       "      <td>0</td>\n",
       "      <td>0</td>\n",
       "      <td>0</td>\n",
       "      <td>0</td>\n",
       "    </tr>\n",
       "    <tr>\n",
       "      <th>1</th>\n",
       "      <td>Chinese, North Indian, Thai</td>\n",
       "      <td>0</td>\n",
       "      <td>0</td>\n",
       "      <td>0</td>\n",
       "      <td>0</td>\n",
       "      <td>0</td>\n",
       "      <td>0</td>\n",
       "      <td>0</td>\n",
       "      <td>0</td>\n",
       "      <td>0</td>\n",
       "      <td>...</td>\n",
       "      <td>0</td>\n",
       "      <td>0</td>\n",
       "      <td>0</td>\n",
       "      <td>0</td>\n",
       "      <td>0</td>\n",
       "      <td>0</td>\n",
       "      <td>0</td>\n",
       "      <td>0</td>\n",
       "      <td>0</td>\n",
       "      <td>0</td>\n",
       "    </tr>\n",
       "    <tr>\n",
       "      <th>2</th>\n",
       "      <td>Cafe, Mexican, Italian</td>\n",
       "      <td>0</td>\n",
       "      <td>0</td>\n",
       "      <td>0</td>\n",
       "      <td>0</td>\n",
       "      <td>0</td>\n",
       "      <td>0</td>\n",
       "      <td>0</td>\n",
       "      <td>0</td>\n",
       "      <td>0</td>\n",
       "      <td>...</td>\n",
       "      <td>0</td>\n",
       "      <td>0</td>\n",
       "      <td>0</td>\n",
       "      <td>0</td>\n",
       "      <td>0</td>\n",
       "      <td>0</td>\n",
       "      <td>0</td>\n",
       "      <td>0</td>\n",
       "      <td>0</td>\n",
       "      <td>0</td>\n",
       "    </tr>\n",
       "    <tr>\n",
       "      <th>3</th>\n",
       "      <td>South Indian, North Indian</td>\n",
       "      <td>0</td>\n",
       "      <td>0</td>\n",
       "      <td>0</td>\n",
       "      <td>0</td>\n",
       "      <td>0</td>\n",
       "      <td>0</td>\n",
       "      <td>0</td>\n",
       "      <td>0</td>\n",
       "      <td>0</td>\n",
       "      <td>...</td>\n",
       "      <td>0</td>\n",
       "      <td>0</td>\n",
       "      <td>0</td>\n",
       "      <td>0</td>\n",
       "      <td>0</td>\n",
       "      <td>0</td>\n",
       "      <td>0</td>\n",
       "      <td>0</td>\n",
       "      <td>0</td>\n",
       "      <td>0</td>\n",
       "    </tr>\n",
       "    <tr>\n",
       "      <th>4</th>\n",
       "      <td>North Indian, Rajasthani</td>\n",
       "      <td>0</td>\n",
       "      <td>0</td>\n",
       "      <td>0</td>\n",
       "      <td>0</td>\n",
       "      <td>0</td>\n",
       "      <td>0</td>\n",
       "      <td>0</td>\n",
       "      <td>0</td>\n",
       "      <td>0</td>\n",
       "      <td>...</td>\n",
       "      <td>0</td>\n",
       "      <td>0</td>\n",
       "      <td>0</td>\n",
       "      <td>0</td>\n",
       "      <td>0</td>\n",
       "      <td>0</td>\n",
       "      <td>0</td>\n",
       "      <td>0</td>\n",
       "      <td>0</td>\n",
       "      <td>0</td>\n",
       "    </tr>\n",
       "  </tbody>\n",
       "</table>\n",
       "<p>5 rows × 106 columns</p>\n",
       "</div>"
      ],
      "text/plain": [
       "                         cuisines  Australian  Tibetan  Cantonese  Mithai  \\\n",
       "0  North Indian, Mughlai, Chinese           0        0          0       0   \n",
       "1     Chinese, North Indian, Thai           0        0          0       0   \n",
       "2          Cafe, Mexican, Italian           0        0          0       0   \n",
       "3      South Indian, North Indian           0        0          0       0   \n",
       "4        North Indian, Rajasthani           0        0          0       0   \n",
       "\n",
       "   Desserts  British  Tea  Grill  Hot dogs  ...  Tamil  Portuguese  \\\n",
       "0         0        0    0      0         0  ...      0           0   \n",
       "1         0        0    0      0         0  ...      0           0   \n",
       "2         0        0    0      0         0  ...      0           0   \n",
       "3         0        0    0      0         0  ...      0           0   \n",
       "4         0        0    0      0         0  ...      0           0   \n",
       "\n",
       "   South American  Awadhi  Belgian  Street Food  Turkish  Rolls  Asian  \\\n",
       "0               0       0        0            0        0      0      0   \n",
       "1               0       0        0            0        0      0      0   \n",
       "2               0       0        0            0        0      0      0   \n",
       "3               0       0        0            0        0      0      0   \n",
       "4               0       0        0            0        0      0      0   \n",
       "\n",
       "   Burmese  \n",
       "0        0  \n",
       "1        0  \n",
       "2        0  \n",
       "3        0  \n",
       "4        0  \n",
       "\n",
       "[5 rows x 106 columns]"
      ]
     },
     "execution_count": 47,
     "metadata": {},
     "output_type": "execute_result"
    }
   ],
   "source": [
    "cuisines_df.head()"
   ]
  },
  {
   "cell_type": "code",
   "execution_count": 48,
   "id": "peaceful-screw",
   "metadata": {},
   "outputs": [
    {
     "data": {
      "text/html": [
       "<div>\n",
       "<style scoped>\n",
       "    .dataframe tbody tr th:only-of-type {\n",
       "        vertical-align: middle;\n",
       "    }\n",
       "\n",
       "    .dataframe tbody tr th {\n",
       "        vertical-align: top;\n",
       "    }\n",
       "\n",
       "    .dataframe thead th {\n",
       "        text-align: right;\n",
       "    }\n",
       "</style>\n",
       "<table border=\"1\" class=\"dataframe\">\n",
       "  <thead>\n",
       "    <tr style=\"text-align: right;\">\n",
       "      <th></th>\n",
       "      <th>Australian</th>\n",
       "      <th>Tibetan</th>\n",
       "      <th>Cantonese</th>\n",
       "      <th>Mithai</th>\n",
       "      <th>Desserts</th>\n",
       "      <th>British</th>\n",
       "      <th>Tea</th>\n",
       "      <th>Grill</th>\n",
       "      <th>Hot dogs</th>\n",
       "      <th>Gujarati</th>\n",
       "      <th>...</th>\n",
       "      <th>Tamil</th>\n",
       "      <th>Portuguese</th>\n",
       "      <th>South American</th>\n",
       "      <th>Awadhi</th>\n",
       "      <th>Belgian</th>\n",
       "      <th>Street Food</th>\n",
       "      <th>Turkish</th>\n",
       "      <th>Rolls</th>\n",
       "      <th>Asian</th>\n",
       "      <th>Burmese</th>\n",
       "    </tr>\n",
       "  </thead>\n",
       "  <tbody>\n",
       "    <tr>\n",
       "      <th>0</th>\n",
       "      <td>0</td>\n",
       "      <td>0</td>\n",
       "      <td>0</td>\n",
       "      <td>0</td>\n",
       "      <td>0</td>\n",
       "      <td>0</td>\n",
       "      <td>0</td>\n",
       "      <td>0</td>\n",
       "      <td>0</td>\n",
       "      <td>0</td>\n",
       "      <td>...</td>\n",
       "      <td>0</td>\n",
       "      <td>0</td>\n",
       "      <td>0</td>\n",
       "      <td>0</td>\n",
       "      <td>0</td>\n",
       "      <td>0</td>\n",
       "      <td>0</td>\n",
       "      <td>0</td>\n",
       "      <td>0</td>\n",
       "      <td>0</td>\n",
       "    </tr>\n",
       "    <tr>\n",
       "      <th>1</th>\n",
       "      <td>0</td>\n",
       "      <td>0</td>\n",
       "      <td>0</td>\n",
       "      <td>0</td>\n",
       "      <td>0</td>\n",
       "      <td>0</td>\n",
       "      <td>0</td>\n",
       "      <td>0</td>\n",
       "      <td>0</td>\n",
       "      <td>0</td>\n",
       "      <td>...</td>\n",
       "      <td>0</td>\n",
       "      <td>0</td>\n",
       "      <td>0</td>\n",
       "      <td>0</td>\n",
       "      <td>0</td>\n",
       "      <td>0</td>\n",
       "      <td>0</td>\n",
       "      <td>0</td>\n",
       "      <td>0</td>\n",
       "      <td>0</td>\n",
       "    </tr>\n",
       "    <tr>\n",
       "      <th>2</th>\n",
       "      <td>0</td>\n",
       "      <td>0</td>\n",
       "      <td>0</td>\n",
       "      <td>0</td>\n",
       "      <td>0</td>\n",
       "      <td>0</td>\n",
       "      <td>0</td>\n",
       "      <td>0</td>\n",
       "      <td>0</td>\n",
       "      <td>0</td>\n",
       "      <td>...</td>\n",
       "      <td>0</td>\n",
       "      <td>0</td>\n",
       "      <td>0</td>\n",
       "      <td>0</td>\n",
       "      <td>0</td>\n",
       "      <td>0</td>\n",
       "      <td>0</td>\n",
       "      <td>0</td>\n",
       "      <td>0</td>\n",
       "      <td>0</td>\n",
       "    </tr>\n",
       "    <tr>\n",
       "      <th>3</th>\n",
       "      <td>0</td>\n",
       "      <td>0</td>\n",
       "      <td>0</td>\n",
       "      <td>0</td>\n",
       "      <td>0</td>\n",
       "      <td>0</td>\n",
       "      <td>0</td>\n",
       "      <td>0</td>\n",
       "      <td>0</td>\n",
       "      <td>0</td>\n",
       "      <td>...</td>\n",
       "      <td>0</td>\n",
       "      <td>0</td>\n",
       "      <td>0</td>\n",
       "      <td>0</td>\n",
       "      <td>0</td>\n",
       "      <td>0</td>\n",
       "      <td>0</td>\n",
       "      <td>0</td>\n",
       "      <td>0</td>\n",
       "      <td>0</td>\n",
       "    </tr>\n",
       "    <tr>\n",
       "      <th>4</th>\n",
       "      <td>0</td>\n",
       "      <td>0</td>\n",
       "      <td>0</td>\n",
       "      <td>0</td>\n",
       "      <td>0</td>\n",
       "      <td>0</td>\n",
       "      <td>0</td>\n",
       "      <td>0</td>\n",
       "      <td>0</td>\n",
       "      <td>0</td>\n",
       "      <td>...</td>\n",
       "      <td>0</td>\n",
       "      <td>0</td>\n",
       "      <td>0</td>\n",
       "      <td>0</td>\n",
       "      <td>0</td>\n",
       "      <td>0</td>\n",
       "      <td>0</td>\n",
       "      <td>0</td>\n",
       "      <td>0</td>\n",
       "      <td>0</td>\n",
       "    </tr>\n",
       "  </tbody>\n",
       "</table>\n",
       "<p>5 rows × 105 columns</p>\n",
       "</div>"
      ],
      "text/plain": [
       "   Australian  Tibetan  Cantonese  Mithai  Desserts  British  Tea  Grill  \\\n",
       "0           0        0          0       0         0        0    0      0   \n",
       "1           0        0          0       0         0        0    0      0   \n",
       "2           0        0          0       0         0        0    0      0   \n",
       "3           0        0          0       0         0        0    0      0   \n",
       "4           0        0          0       0         0        0    0      0   \n",
       "\n",
       "   Hot dogs  Gujarati  ...  Tamil  Portuguese  South American  Awadhi  \\\n",
       "0         0         0  ...      0           0               0       0   \n",
       "1         0         0  ...      0           0               0       0   \n",
       "2         0         0  ...      0           0               0       0   \n",
       "3         0         0  ...      0           0               0       0   \n",
       "4         0         0  ...      0           0               0       0   \n",
       "\n",
       "   Belgian  Street Food  Turkish  Rolls  Asian  Burmese  \n",
       "0        0            0        0      0      0        0  \n",
       "1        0            0        0      0      0        0  \n",
       "2        0            0        0      0      0        0  \n",
       "3        0            0        0      0      0        0  \n",
       "4        0            0        0      0      0        0  \n",
       "\n",
       "[5 rows x 105 columns]"
      ]
     },
     "execution_count": 48,
     "metadata": {},
     "output_type": "execute_result"
    }
   ],
   "source": [
    "cuisines_df.drop(['cuisines'], axis = 1, inplace=True)\n",
    "cuisines_df.head()"
   ]
  },
  {
   "cell_type": "markdown",
   "id": "focal-guatemala",
   "metadata": {},
   "source": [
    "<br>"
   ]
  },
  {
   "cell_type": "markdown",
   "id": "prompt-joyce",
   "metadata": {},
   "source": [
    "### Location Column"
   ]
  },
  {
   "cell_type": "code",
   "execution_count": 93,
   "id": "advised-hundred",
   "metadata": {},
   "outputs": [
    {
     "data": {
      "text/html": [
       "<div>\n",
       "<style scoped>\n",
       "    .dataframe tbody tr th:only-of-type {\n",
       "        vertical-align: middle;\n",
       "    }\n",
       "\n",
       "    .dataframe tbody tr th {\n",
       "        vertical-align: top;\n",
       "    }\n",
       "\n",
       "    .dataframe thead th {\n",
       "        text-align: right;\n",
       "    }\n",
       "</style>\n",
       "<table border=\"1\" class=\"dataframe\">\n",
       "  <thead>\n",
       "    <tr style=\"text-align: right;\">\n",
       "      <th></th>\n",
       "      <th>BTM</th>\n",
       "      <th>Banashankari</th>\n",
       "      <th>Banaswadi</th>\n",
       "      <th>Bannerghatta Road</th>\n",
       "      <th>Basavanagudi</th>\n",
       "      <th>Basaveshwara Nagar</th>\n",
       "      <th>Bellandur</th>\n",
       "      <th>Bommanahalli</th>\n",
       "      <th>Brigade Road</th>\n",
       "      <th>Brookefield</th>\n",
       "      <th>...</th>\n",
       "      <th>Ulsoor</th>\n",
       "      <th>Uttarahalli</th>\n",
       "      <th>Varthur Main Road, Whitefield</th>\n",
       "      <th>Vasanth Nagar</th>\n",
       "      <th>Vijay Nagar</th>\n",
       "      <th>West Bangalore</th>\n",
       "      <th>Whitefield</th>\n",
       "      <th>Wilson Garden</th>\n",
       "      <th>Yelahanka</th>\n",
       "      <th>Yeshwantpur</th>\n",
       "    </tr>\n",
       "  </thead>\n",
       "  <tbody>\n",
       "    <tr>\n",
       "      <th>0</th>\n",
       "      <td>0</td>\n",
       "      <td>1</td>\n",
       "      <td>0</td>\n",
       "      <td>0</td>\n",
       "      <td>0</td>\n",
       "      <td>0</td>\n",
       "      <td>0</td>\n",
       "      <td>0</td>\n",
       "      <td>0</td>\n",
       "      <td>0</td>\n",
       "      <td>...</td>\n",
       "      <td>0</td>\n",
       "      <td>0</td>\n",
       "      <td>0</td>\n",
       "      <td>0</td>\n",
       "      <td>0</td>\n",
       "      <td>0</td>\n",
       "      <td>0</td>\n",
       "      <td>0</td>\n",
       "      <td>0</td>\n",
       "      <td>0</td>\n",
       "    </tr>\n",
       "    <tr>\n",
       "      <th>1</th>\n",
       "      <td>0</td>\n",
       "      <td>1</td>\n",
       "      <td>0</td>\n",
       "      <td>0</td>\n",
       "      <td>0</td>\n",
       "      <td>0</td>\n",
       "      <td>0</td>\n",
       "      <td>0</td>\n",
       "      <td>0</td>\n",
       "      <td>0</td>\n",
       "      <td>...</td>\n",
       "      <td>0</td>\n",
       "      <td>0</td>\n",
       "      <td>0</td>\n",
       "      <td>0</td>\n",
       "      <td>0</td>\n",
       "      <td>0</td>\n",
       "      <td>0</td>\n",
       "      <td>0</td>\n",
       "      <td>0</td>\n",
       "      <td>0</td>\n",
       "    </tr>\n",
       "    <tr>\n",
       "      <th>2</th>\n",
       "      <td>0</td>\n",
       "      <td>1</td>\n",
       "      <td>0</td>\n",
       "      <td>0</td>\n",
       "      <td>0</td>\n",
       "      <td>0</td>\n",
       "      <td>0</td>\n",
       "      <td>0</td>\n",
       "      <td>0</td>\n",
       "      <td>0</td>\n",
       "      <td>...</td>\n",
       "      <td>0</td>\n",
       "      <td>0</td>\n",
       "      <td>0</td>\n",
       "      <td>0</td>\n",
       "      <td>0</td>\n",
       "      <td>0</td>\n",
       "      <td>0</td>\n",
       "      <td>0</td>\n",
       "      <td>0</td>\n",
       "      <td>0</td>\n",
       "    </tr>\n",
       "    <tr>\n",
       "      <th>3</th>\n",
       "      <td>0</td>\n",
       "      <td>1</td>\n",
       "      <td>0</td>\n",
       "      <td>0</td>\n",
       "      <td>0</td>\n",
       "      <td>0</td>\n",
       "      <td>0</td>\n",
       "      <td>0</td>\n",
       "      <td>0</td>\n",
       "      <td>0</td>\n",
       "      <td>...</td>\n",
       "      <td>0</td>\n",
       "      <td>0</td>\n",
       "      <td>0</td>\n",
       "      <td>0</td>\n",
       "      <td>0</td>\n",
       "      <td>0</td>\n",
       "      <td>0</td>\n",
       "      <td>0</td>\n",
       "      <td>0</td>\n",
       "      <td>0</td>\n",
       "    </tr>\n",
       "    <tr>\n",
       "      <th>4</th>\n",
       "      <td>0</td>\n",
       "      <td>0</td>\n",
       "      <td>0</td>\n",
       "      <td>0</td>\n",
       "      <td>1</td>\n",
       "      <td>0</td>\n",
       "      <td>0</td>\n",
       "      <td>0</td>\n",
       "      <td>0</td>\n",
       "      <td>0</td>\n",
       "      <td>...</td>\n",
       "      <td>0</td>\n",
       "      <td>0</td>\n",
       "      <td>0</td>\n",
       "      <td>0</td>\n",
       "      <td>0</td>\n",
       "      <td>0</td>\n",
       "      <td>0</td>\n",
       "      <td>0</td>\n",
       "      <td>0</td>\n",
       "      <td>0</td>\n",
       "    </tr>\n",
       "  </tbody>\n",
       "</table>\n",
       "<p>5 rows × 93 columns</p>\n",
       "</div>"
      ],
      "text/plain": [
       "   BTM  Banashankari  Banaswadi  Bannerghatta Road  Basavanagudi  \\\n",
       "0    0             1          0                  0             0   \n",
       "1    0             1          0                  0             0   \n",
       "2    0             1          0                  0             0   \n",
       "3    0             1          0                  0             0   \n",
       "4    0             0          0                  0             1   \n",
       "\n",
       "   Basaveshwara Nagar  Bellandur  Bommanahalli  Brigade Road  Brookefield  \\\n",
       "0                   0          0             0             0            0   \n",
       "1                   0          0             0             0            0   \n",
       "2                   0          0             0             0            0   \n",
       "3                   0          0             0             0            0   \n",
       "4                   0          0             0             0            0   \n",
       "\n",
       "   ...  Ulsoor  Uttarahalli  Varthur Main Road, Whitefield  Vasanth Nagar  \\\n",
       "0  ...       0            0                              0              0   \n",
       "1  ...       0            0                              0              0   \n",
       "2  ...       0            0                              0              0   \n",
       "3  ...       0            0                              0              0   \n",
       "4  ...       0            0                              0              0   \n",
       "\n",
       "   Vijay Nagar  West Bangalore  Whitefield  Wilson Garden  Yelahanka  \\\n",
       "0            0               0           0              0          0   \n",
       "1            0               0           0              0          0   \n",
       "2            0               0           0              0          0   \n",
       "3            0               0           0              0          0   \n",
       "4            0               0           0              0          0   \n",
       "\n",
       "   Yeshwantpur  \n",
       "0            0  \n",
       "1            0  \n",
       "2            0  \n",
       "3            0  \n",
       "4            0  \n",
       "\n",
       "[5 rows x 93 columns]"
      ]
     },
     "execution_count": 93,
     "metadata": {},
     "output_type": "execute_result"
    }
   ],
   "source": [
    "location_df = orders_df['location']\n",
    "location_df = pd.get_dummies(location_df)\n",
    "location_df.head()"
   ]
  },
  {
   "cell_type": "markdown",
   "id": "diverse-numbers",
   "metadata": {},
   "source": [
    "<br>"
   ]
  },
  {
   "cell_type": "markdown",
   "id": "hidden-rugby",
   "metadata": {},
   "source": [
    "### Area Column"
   ]
  },
  {
   "cell_type": "code",
   "execution_count": 50,
   "id": "south-inspiration",
   "metadata": {},
   "outputs": [
    {
     "data": {
      "text/html": [
       "<div>\n",
       "<style scoped>\n",
       "    .dataframe tbody tr th:only-of-type {\n",
       "        vertical-align: middle;\n",
       "    }\n",
       "\n",
       "    .dataframe tbody tr th {\n",
       "        vertical-align: top;\n",
       "    }\n",
       "\n",
       "    .dataframe thead th {\n",
       "        text-align: right;\n",
       "    }\n",
       "</style>\n",
       "<table border=\"1\" class=\"dataframe\">\n",
       "  <thead>\n",
       "    <tr style=\"text-align: right;\">\n",
       "      <th></th>\n",
       "      <th>BTM</th>\n",
       "      <th>Banashankari</th>\n",
       "      <th>Bannerghatta Road</th>\n",
       "      <th>Basavanagudi</th>\n",
       "      <th>Bellandur</th>\n",
       "      <th>Brigade Road</th>\n",
       "      <th>Brookefield</th>\n",
       "      <th>Church Street</th>\n",
       "      <th>Electronic City</th>\n",
       "      <th>Frazer Town</th>\n",
       "      <th>...</th>\n",
       "      <th>Lavelle Road</th>\n",
       "      <th>MG Road</th>\n",
       "      <th>Malleshwaram</th>\n",
       "      <th>Marathahalli</th>\n",
       "      <th>New BEL Road</th>\n",
       "      <th>Old Airport Road</th>\n",
       "      <th>Rajajinagar</th>\n",
       "      <th>Residency Road</th>\n",
       "      <th>Sarjapur Road</th>\n",
       "      <th>Whitefield</th>\n",
       "    </tr>\n",
       "  </thead>\n",
       "  <tbody>\n",
       "    <tr>\n",
       "      <th>0</th>\n",
       "      <td>0</td>\n",
       "      <td>1</td>\n",
       "      <td>0</td>\n",
       "      <td>0</td>\n",
       "      <td>0</td>\n",
       "      <td>0</td>\n",
       "      <td>0</td>\n",
       "      <td>0</td>\n",
       "      <td>0</td>\n",
       "      <td>0</td>\n",
       "      <td>...</td>\n",
       "      <td>0</td>\n",
       "      <td>0</td>\n",
       "      <td>0</td>\n",
       "      <td>0</td>\n",
       "      <td>0</td>\n",
       "      <td>0</td>\n",
       "      <td>0</td>\n",
       "      <td>0</td>\n",
       "      <td>0</td>\n",
       "      <td>0</td>\n",
       "    </tr>\n",
       "    <tr>\n",
       "      <th>1</th>\n",
       "      <td>0</td>\n",
       "      <td>1</td>\n",
       "      <td>0</td>\n",
       "      <td>0</td>\n",
       "      <td>0</td>\n",
       "      <td>0</td>\n",
       "      <td>0</td>\n",
       "      <td>0</td>\n",
       "      <td>0</td>\n",
       "      <td>0</td>\n",
       "      <td>...</td>\n",
       "      <td>0</td>\n",
       "      <td>0</td>\n",
       "      <td>0</td>\n",
       "      <td>0</td>\n",
       "      <td>0</td>\n",
       "      <td>0</td>\n",
       "      <td>0</td>\n",
       "      <td>0</td>\n",
       "      <td>0</td>\n",
       "      <td>0</td>\n",
       "    </tr>\n",
       "    <tr>\n",
       "      <th>2</th>\n",
       "      <td>0</td>\n",
       "      <td>1</td>\n",
       "      <td>0</td>\n",
       "      <td>0</td>\n",
       "      <td>0</td>\n",
       "      <td>0</td>\n",
       "      <td>0</td>\n",
       "      <td>0</td>\n",
       "      <td>0</td>\n",
       "      <td>0</td>\n",
       "      <td>...</td>\n",
       "      <td>0</td>\n",
       "      <td>0</td>\n",
       "      <td>0</td>\n",
       "      <td>0</td>\n",
       "      <td>0</td>\n",
       "      <td>0</td>\n",
       "      <td>0</td>\n",
       "      <td>0</td>\n",
       "      <td>0</td>\n",
       "      <td>0</td>\n",
       "    </tr>\n",
       "    <tr>\n",
       "      <th>3</th>\n",
       "      <td>0</td>\n",
       "      <td>1</td>\n",
       "      <td>0</td>\n",
       "      <td>0</td>\n",
       "      <td>0</td>\n",
       "      <td>0</td>\n",
       "      <td>0</td>\n",
       "      <td>0</td>\n",
       "      <td>0</td>\n",
       "      <td>0</td>\n",
       "      <td>...</td>\n",
       "      <td>0</td>\n",
       "      <td>0</td>\n",
       "      <td>0</td>\n",
       "      <td>0</td>\n",
       "      <td>0</td>\n",
       "      <td>0</td>\n",
       "      <td>0</td>\n",
       "      <td>0</td>\n",
       "      <td>0</td>\n",
       "      <td>0</td>\n",
       "    </tr>\n",
       "    <tr>\n",
       "      <th>4</th>\n",
       "      <td>0</td>\n",
       "      <td>1</td>\n",
       "      <td>0</td>\n",
       "      <td>0</td>\n",
       "      <td>0</td>\n",
       "      <td>0</td>\n",
       "      <td>0</td>\n",
       "      <td>0</td>\n",
       "      <td>0</td>\n",
       "      <td>0</td>\n",
       "      <td>...</td>\n",
       "      <td>0</td>\n",
       "      <td>0</td>\n",
       "      <td>0</td>\n",
       "      <td>0</td>\n",
       "      <td>0</td>\n",
       "      <td>0</td>\n",
       "      <td>0</td>\n",
       "      <td>0</td>\n",
       "      <td>0</td>\n",
       "      <td>0</td>\n",
       "    </tr>\n",
       "  </tbody>\n",
       "</table>\n",
       "<p>5 rows × 30 columns</p>\n",
       "</div>"
      ],
      "text/plain": [
       "   BTM  Banashankari  Bannerghatta Road  Basavanagudi  Bellandur  \\\n",
       "0    0             1                  0             0          0   \n",
       "1    0             1                  0             0          0   \n",
       "2    0             1                  0             0          0   \n",
       "3    0             1                  0             0          0   \n",
       "4    0             1                  0             0          0   \n",
       "\n",
       "   Brigade Road  Brookefield  Church Street  Electronic City  Frazer Town  \\\n",
       "0             0            0              0                0            0   \n",
       "1             0            0              0                0            0   \n",
       "2             0            0              0                0            0   \n",
       "3             0            0              0                0            0   \n",
       "4             0            0              0                0            0   \n",
       "\n",
       "   ...  Lavelle Road  MG Road  Malleshwaram  Marathahalli  New BEL Road  \\\n",
       "0  ...             0        0             0             0             0   \n",
       "1  ...             0        0             0             0             0   \n",
       "2  ...             0        0             0             0             0   \n",
       "3  ...             0        0             0             0             0   \n",
       "4  ...             0        0             0             0             0   \n",
       "\n",
       "   Old Airport Road  Rajajinagar  Residency Road  Sarjapur Road  Whitefield  \n",
       "0                 0            0               0              0           0  \n",
       "1                 0            0               0              0           0  \n",
       "2                 0            0               0              0           0  \n",
       "3                 0            0               0              0           0  \n",
       "4                 0            0               0              0           0  \n",
       "\n",
       "[5 rows x 30 columns]"
      ]
     },
     "execution_count": 50,
     "metadata": {},
     "output_type": "execute_result"
    }
   ],
   "source": [
    "area_df = orders_df['area']\n",
    "area_df = pd.get_dummies(area_df)\n",
    "area_df.head()"
   ]
  },
  {
   "cell_type": "code",
   "execution_count": 51,
   "id": "freelance-warrant",
   "metadata": {},
   "outputs": [
    {
     "data": {
      "text/html": [
       "<div>\n",
       "<style scoped>\n",
       "    .dataframe tbody tr th:only-of-type {\n",
       "        vertical-align: middle;\n",
       "    }\n",
       "\n",
       "    .dataframe tbody tr th {\n",
       "        vertical-align: top;\n",
       "    }\n",
       "\n",
       "    .dataframe thead th {\n",
       "        text-align: right;\n",
       "    }\n",
       "</style>\n",
       "<table border=\"1\" class=\"dataframe\">\n",
       "  <thead>\n",
       "    <tr style=\"text-align: right;\">\n",
       "      <th></th>\n",
       "      <th>name</th>\n",
       "      <th>online_order</th>\n",
       "      <th>book_table</th>\n",
       "      <th>rate</th>\n",
       "      <th>votes</th>\n",
       "      <th>location</th>\n",
       "      <th>rest_type</th>\n",
       "      <th>cuisines</th>\n",
       "      <th>approx_cost</th>\n",
       "      <th>area</th>\n",
       "      <th>...</th>\n",
       "      <th>Ulsoor</th>\n",
       "      <th>Uttarahalli</th>\n",
       "      <th>Varthur Main Road, Whitefield</th>\n",
       "      <th>Vasanth Nagar</th>\n",
       "      <th>Vijay Nagar</th>\n",
       "      <th>West Bangalore</th>\n",
       "      <th>Whitefield</th>\n",
       "      <th>Wilson Garden</th>\n",
       "      <th>Yelahanka</th>\n",
       "      <th>Yeshwantpur</th>\n",
       "    </tr>\n",
       "  </thead>\n",
       "  <tbody>\n",
       "    <tr>\n",
       "      <th>0</th>\n",
       "      <td>Jalsa</td>\n",
       "      <td>1</td>\n",
       "      <td>1</td>\n",
       "      <td>4.1</td>\n",
       "      <td>775</td>\n",
       "      <td>Banashankari</td>\n",
       "      <td>Casual Dining</td>\n",
       "      <td>North Indian, Mughlai, Chinese</td>\n",
       "      <td>800.0</td>\n",
       "      <td>Banashankari</td>\n",
       "      <td>...</td>\n",
       "      <td>0</td>\n",
       "      <td>0</td>\n",
       "      <td>0</td>\n",
       "      <td>0</td>\n",
       "      <td>0</td>\n",
       "      <td>0</td>\n",
       "      <td>0</td>\n",
       "      <td>0</td>\n",
       "      <td>0</td>\n",
       "      <td>0</td>\n",
       "    </tr>\n",
       "    <tr>\n",
       "      <th>1</th>\n",
       "      <td>Spice Elephant</td>\n",
       "      <td>1</td>\n",
       "      <td>0</td>\n",
       "      <td>4.1</td>\n",
       "      <td>787</td>\n",
       "      <td>Banashankari</td>\n",
       "      <td>Casual Dining</td>\n",
       "      <td>Chinese, North Indian, Thai</td>\n",
       "      <td>800.0</td>\n",
       "      <td>Banashankari</td>\n",
       "      <td>...</td>\n",
       "      <td>0</td>\n",
       "      <td>0</td>\n",
       "      <td>0</td>\n",
       "      <td>0</td>\n",
       "      <td>0</td>\n",
       "      <td>0</td>\n",
       "      <td>0</td>\n",
       "      <td>0</td>\n",
       "      <td>0</td>\n",
       "      <td>0</td>\n",
       "    </tr>\n",
       "    <tr>\n",
       "      <th>2</th>\n",
       "      <td>San Churro Cafe</td>\n",
       "      <td>1</td>\n",
       "      <td>0</td>\n",
       "      <td>3.8</td>\n",
       "      <td>918</td>\n",
       "      <td>Banashankari</td>\n",
       "      <td>Cafe, Casual Dining</td>\n",
       "      <td>Cafe, Mexican, Italian</td>\n",
       "      <td>800.0</td>\n",
       "      <td>Banashankari</td>\n",
       "      <td>...</td>\n",
       "      <td>0</td>\n",
       "      <td>0</td>\n",
       "      <td>0</td>\n",
       "      <td>0</td>\n",
       "      <td>0</td>\n",
       "      <td>0</td>\n",
       "      <td>0</td>\n",
       "      <td>0</td>\n",
       "      <td>0</td>\n",
       "      <td>0</td>\n",
       "    </tr>\n",
       "    <tr>\n",
       "      <th>3</th>\n",
       "      <td>Addhuri Udupi Bhojana</td>\n",
       "      <td>0</td>\n",
       "      <td>0</td>\n",
       "      <td>3.7</td>\n",
       "      <td>88</td>\n",
       "      <td>Banashankari</td>\n",
       "      <td>Quick Bites</td>\n",
       "      <td>South Indian, North Indian</td>\n",
       "      <td>300.0</td>\n",
       "      <td>Banashankari</td>\n",
       "      <td>...</td>\n",
       "      <td>0</td>\n",
       "      <td>0</td>\n",
       "      <td>0</td>\n",
       "      <td>0</td>\n",
       "      <td>0</td>\n",
       "      <td>0</td>\n",
       "      <td>0</td>\n",
       "      <td>0</td>\n",
       "      <td>0</td>\n",
       "      <td>0</td>\n",
       "    </tr>\n",
       "    <tr>\n",
       "      <th>4</th>\n",
       "      <td>Grand Village</td>\n",
       "      <td>0</td>\n",
       "      <td>0</td>\n",
       "      <td>3.8</td>\n",
       "      <td>166</td>\n",
       "      <td>Basavanagudi</td>\n",
       "      <td>Casual Dining</td>\n",
       "      <td>North Indian, Rajasthani</td>\n",
       "      <td>600.0</td>\n",
       "      <td>Banashankari</td>\n",
       "      <td>...</td>\n",
       "      <td>0</td>\n",
       "      <td>0</td>\n",
       "      <td>0</td>\n",
       "      <td>0</td>\n",
       "      <td>0</td>\n",
       "      <td>0</td>\n",
       "      <td>0</td>\n",
       "      <td>0</td>\n",
       "      <td>0</td>\n",
       "      <td>0</td>\n",
       "    </tr>\n",
       "  </tbody>\n",
       "</table>\n",
       "<p>5 rows × 233 columns</p>\n",
       "</div>"
      ],
      "text/plain": [
       "                    name  online_order  book_table  rate  votes      location  \\\n",
       "0                  Jalsa             1           1   4.1    775  Banashankari   \n",
       "1         Spice Elephant             1           0   4.1    787  Banashankari   \n",
       "2        San Churro Cafe             1           0   3.8    918  Banashankari   \n",
       "3  Addhuri Udupi Bhojana             0           0   3.7     88  Banashankari   \n",
       "4          Grand Village             0           0   3.8    166  Basavanagudi   \n",
       "\n",
       "             rest_type                        cuisines  approx_cost  \\\n",
       "0        Casual Dining  North Indian, Mughlai, Chinese        800.0   \n",
       "1        Casual Dining     Chinese, North Indian, Thai        800.0   \n",
       "2  Cafe, Casual Dining          Cafe, Mexican, Italian        800.0   \n",
       "3          Quick Bites      South Indian, North Indian        300.0   \n",
       "4        Casual Dining        North Indian, Rajasthani        600.0   \n",
       "\n",
       "           area  ...  Ulsoor  Uttarahalli  Varthur Main Road, Whitefield  \\\n",
       "0  Banashankari  ...       0            0                              0   \n",
       "1  Banashankari  ...       0            0                              0   \n",
       "2  Banashankari  ...       0            0                              0   \n",
       "3  Banashankari  ...       0            0                              0   \n",
       "4  Banashankari  ...       0            0                              0   \n",
       "\n",
       "   Vasanth Nagar  Vijay Nagar  West Bangalore  Whitefield  Wilson Garden  \\\n",
       "0              0            0               0           0              0   \n",
       "1              0            0               0           0              0   \n",
       "2              0            0               0           0              0   \n",
       "3              0            0               0           0              0   \n",
       "4              0            0               0           0              0   \n",
       "\n",
       "   Yelahanka  Yeshwantpur  \n",
       "0          0            0  \n",
       "1          0            0  \n",
       "2          0            0  \n",
       "3          0            0  \n",
       "4          0            0  \n",
       "\n",
       "[5 rows x 233 columns]"
      ]
     },
     "execution_count": 51,
     "metadata": {},
     "output_type": "execute_result"
    }
   ],
   "source": [
    "data_with_location = pd.concat([orders_df, rest_df, cuisines_df, location_df], axis = 1)\n",
    "data_with_location.head()"
   ]
  },
  {
   "cell_type": "code",
   "execution_count": 52,
   "id": "arabic-spring",
   "metadata": {},
   "outputs": [
    {
     "data": {
      "text/html": [
       "<div>\n",
       "<style scoped>\n",
       "    .dataframe tbody tr th:only-of-type {\n",
       "        vertical-align: middle;\n",
       "    }\n",
       "\n",
       "    .dataframe tbody tr th {\n",
       "        vertical-align: top;\n",
       "    }\n",
       "\n",
       "    .dataframe thead th {\n",
       "        text-align: right;\n",
       "    }\n",
       "</style>\n",
       "<table border=\"1\" class=\"dataframe\">\n",
       "  <thead>\n",
       "    <tr style=\"text-align: right;\">\n",
       "      <th></th>\n",
       "      <th>name</th>\n",
       "      <th>online_order</th>\n",
       "      <th>book_table</th>\n",
       "      <th>rate</th>\n",
       "      <th>votes</th>\n",
       "      <th>location</th>\n",
       "      <th>rest_type</th>\n",
       "      <th>cuisines</th>\n",
       "      <th>approx_cost</th>\n",
       "      <th>area</th>\n",
       "      <th>...</th>\n",
       "      <th>Lavelle Road</th>\n",
       "      <th>MG Road</th>\n",
       "      <th>Malleshwaram</th>\n",
       "      <th>Marathahalli</th>\n",
       "      <th>New BEL Road</th>\n",
       "      <th>Old Airport Road</th>\n",
       "      <th>Rajajinagar</th>\n",
       "      <th>Residency Road</th>\n",
       "      <th>Sarjapur Road</th>\n",
       "      <th>Whitefield</th>\n",
       "    </tr>\n",
       "  </thead>\n",
       "  <tbody>\n",
       "    <tr>\n",
       "      <th>0</th>\n",
       "      <td>Jalsa</td>\n",
       "      <td>1</td>\n",
       "      <td>1</td>\n",
       "      <td>4.1</td>\n",
       "      <td>775</td>\n",
       "      <td>Banashankari</td>\n",
       "      <td>Casual Dining</td>\n",
       "      <td>North Indian, Mughlai, Chinese</td>\n",
       "      <td>800.0</td>\n",
       "      <td>Banashankari</td>\n",
       "      <td>...</td>\n",
       "      <td>0</td>\n",
       "      <td>0</td>\n",
       "      <td>0</td>\n",
       "      <td>0</td>\n",
       "      <td>0</td>\n",
       "      <td>0</td>\n",
       "      <td>0</td>\n",
       "      <td>0</td>\n",
       "      <td>0</td>\n",
       "      <td>0</td>\n",
       "    </tr>\n",
       "    <tr>\n",
       "      <th>1</th>\n",
       "      <td>Spice Elephant</td>\n",
       "      <td>1</td>\n",
       "      <td>0</td>\n",
       "      <td>4.1</td>\n",
       "      <td>787</td>\n",
       "      <td>Banashankari</td>\n",
       "      <td>Casual Dining</td>\n",
       "      <td>Chinese, North Indian, Thai</td>\n",
       "      <td>800.0</td>\n",
       "      <td>Banashankari</td>\n",
       "      <td>...</td>\n",
       "      <td>0</td>\n",
       "      <td>0</td>\n",
       "      <td>0</td>\n",
       "      <td>0</td>\n",
       "      <td>0</td>\n",
       "      <td>0</td>\n",
       "      <td>0</td>\n",
       "      <td>0</td>\n",
       "      <td>0</td>\n",
       "      <td>0</td>\n",
       "    </tr>\n",
       "    <tr>\n",
       "      <th>2</th>\n",
       "      <td>San Churro Cafe</td>\n",
       "      <td>1</td>\n",
       "      <td>0</td>\n",
       "      <td>3.8</td>\n",
       "      <td>918</td>\n",
       "      <td>Banashankari</td>\n",
       "      <td>Cafe, Casual Dining</td>\n",
       "      <td>Cafe, Mexican, Italian</td>\n",
       "      <td>800.0</td>\n",
       "      <td>Banashankari</td>\n",
       "      <td>...</td>\n",
       "      <td>0</td>\n",
       "      <td>0</td>\n",
       "      <td>0</td>\n",
       "      <td>0</td>\n",
       "      <td>0</td>\n",
       "      <td>0</td>\n",
       "      <td>0</td>\n",
       "      <td>0</td>\n",
       "      <td>0</td>\n",
       "      <td>0</td>\n",
       "    </tr>\n",
       "    <tr>\n",
       "      <th>3</th>\n",
       "      <td>Addhuri Udupi Bhojana</td>\n",
       "      <td>0</td>\n",
       "      <td>0</td>\n",
       "      <td>3.7</td>\n",
       "      <td>88</td>\n",
       "      <td>Banashankari</td>\n",
       "      <td>Quick Bites</td>\n",
       "      <td>South Indian, North Indian</td>\n",
       "      <td>300.0</td>\n",
       "      <td>Banashankari</td>\n",
       "      <td>...</td>\n",
       "      <td>0</td>\n",
       "      <td>0</td>\n",
       "      <td>0</td>\n",
       "      <td>0</td>\n",
       "      <td>0</td>\n",
       "      <td>0</td>\n",
       "      <td>0</td>\n",
       "      <td>0</td>\n",
       "      <td>0</td>\n",
       "      <td>0</td>\n",
       "    </tr>\n",
       "    <tr>\n",
       "      <th>4</th>\n",
       "      <td>Grand Village</td>\n",
       "      <td>0</td>\n",
       "      <td>0</td>\n",
       "      <td>3.8</td>\n",
       "      <td>166</td>\n",
       "      <td>Basavanagudi</td>\n",
       "      <td>Casual Dining</td>\n",
       "      <td>North Indian, Rajasthani</td>\n",
       "      <td>600.0</td>\n",
       "      <td>Banashankari</td>\n",
       "      <td>...</td>\n",
       "      <td>0</td>\n",
       "      <td>0</td>\n",
       "      <td>0</td>\n",
       "      <td>0</td>\n",
       "      <td>0</td>\n",
       "      <td>0</td>\n",
       "      <td>0</td>\n",
       "      <td>0</td>\n",
       "      <td>0</td>\n",
       "      <td>0</td>\n",
       "    </tr>\n",
       "  </tbody>\n",
       "</table>\n",
       "<p>5 rows × 170 columns</p>\n",
       "</div>"
      ],
      "text/plain": [
       "                    name  online_order  book_table  rate  votes      location  \\\n",
       "0                  Jalsa             1           1   4.1    775  Banashankari   \n",
       "1         Spice Elephant             1           0   4.1    787  Banashankari   \n",
       "2        San Churro Cafe             1           0   3.8    918  Banashankari   \n",
       "3  Addhuri Udupi Bhojana             0           0   3.7     88  Banashankari   \n",
       "4          Grand Village             0           0   3.8    166  Basavanagudi   \n",
       "\n",
       "             rest_type                        cuisines  approx_cost  \\\n",
       "0        Casual Dining  North Indian, Mughlai, Chinese        800.0   \n",
       "1        Casual Dining     Chinese, North Indian, Thai        800.0   \n",
       "2  Cafe, Casual Dining          Cafe, Mexican, Italian        800.0   \n",
       "3          Quick Bites      South Indian, North Indian        300.0   \n",
       "4        Casual Dining        North Indian, Rajasthani        600.0   \n",
       "\n",
       "           area  ...  Lavelle Road  MG Road  Malleshwaram  Marathahalli  \\\n",
       "0  Banashankari  ...             0        0             0             0   \n",
       "1  Banashankari  ...             0        0             0             0   \n",
       "2  Banashankari  ...             0        0             0             0   \n",
       "3  Banashankari  ...             0        0             0             0   \n",
       "4  Banashankari  ...             0        0             0             0   \n",
       "\n",
       "   New BEL Road  Old Airport Road  Rajajinagar  Residency Road  Sarjapur Road  \\\n",
       "0             0                 0            0               0              0   \n",
       "1             0                 0            0               0              0   \n",
       "2             0                 0            0               0              0   \n",
       "3             0                 0            0               0              0   \n",
       "4             0                 0            0               0              0   \n",
       "\n",
       "   Whitefield  \n",
       "0           0  \n",
       "1           0  \n",
       "2           0  \n",
       "3           0  \n",
       "4           0  \n",
       "\n",
       "[5 rows x 170 columns]"
      ]
     },
     "execution_count": 52,
     "metadata": {},
     "output_type": "execute_result"
    }
   ],
   "source": [
    "data_with_area = pd.concat([orders_df, rest_df, cuisines_df, area_df], axis = 1)\n",
    "data_with_area.head()"
   ]
  },
  {
   "cell_type": "code",
   "execution_count": 108,
   "id": "beneficial-trunk",
   "metadata": {},
   "outputs": [
    {
     "name": "stdout",
     "output_type": "stream",
     "text": [
      "Index(['RT Nagar', 'Race Course Road', 'Rajajinagar', 'Rajarajeshwari Nagar',\n",
      "       'Rammurthy Nagar', 'Residency Road', 'Richmond Road', 'Sadashiv Nagar',\n",
      "       'Sahakara Nagar', 'Sanjay Nagar', 'Sankey Road', 'Sarjapur Road',\n",
      "       'Seshadripuram', 'Shanti Nagar', 'Shivajinagar', 'South Bangalore',\n",
      "       'St. Marks Road', 'Thippasandra', 'Ulsoor', 'Uttarahalli',\n",
      "       'Varthur Main Road, Whitefield', 'Vasanth Nagar', 'Vijay Nagar',\n",
      "       'West Bangalore', 'Whitefield', 'Wilson Garden', 'Yelahanka',\n",
      "       'Yeshwantpur'],\n",
      "      dtype='object')\n"
     ]
    }
   ],
   "source": [
    "# data_with_location.drop(columns=['name', 'location', 'rest_type', 'cuisines', 'area'], axis = 1, inplace=True)\n",
    "# data_with_area.drop(columns=['name', 'location', 'rest_type', 'cuisines', 'area'], axis=1, inplace=True)\n",
    "print(data_with_location.columns[200:])"
   ]
  },
  {
   "cell_type": "markdown",
   "id": "7af55dff",
   "metadata": {},
   "source": [
    "## Feature Selection"
   ]
  },
  {
   "cell_type": "code",
   "execution_count": 54,
   "id": "dried-bicycle",
   "metadata": {},
   "outputs": [
    {
     "name": "stdout",
     "output_type": "stream",
     "text": [
      "X =  [[  1.   1. 775. ...   0.   0.   0.]\n",
      " [  1.   0. 787. ...   0.   0.   0.]\n",
      " [  1.   0. 918. ...   0.   0.   0.]\n",
      " ...\n",
      " [  0.   0.   0. ...   0.   0.   0.]\n",
      " [  0.   1. 236. ...   0.   0.   0.]\n",
      " [  0.   0.  13. ...   0.   0.   0.]]\n",
      "\n",
      "Y =  [4.1 4.1 3.8 ... 3.7 4.3 3.4]\n"
     ]
    }
   ],
   "source": [
    "X1 = data_with_location.drop(\"rate\", axis = 1).values\n",
    "Y1 = data_with_location[\"rate\"].values\n",
    "\n",
    "print(\"X = \", X1)\n",
    "print()\n",
    "print(\"Y = \", Y1)"
   ]
  },
  {
   "cell_type": "code",
   "execution_count": 55,
   "id": "directed-microwave",
   "metadata": {},
   "outputs": [
    {
     "name": "stdout",
     "output_type": "stream",
     "text": [
      "X =  [[  1.   1. 775. ...   0.   0.   0.]\n",
      " [  1.   0. 787. ...   0.   0.   0.]\n",
      " [  1.   0. 918. ...   0.   0.   0.]\n",
      " ...\n",
      " [  0.   0.   0. ...   0.   0.   1.]\n",
      " [  0.   1. 236. ...   0.   0.   1.]\n",
      " [  0.   0.  13. ...   0.   0.   1.]]\n",
      "\n",
      "Y =  [4.1 4.1 3.8 ... 3.7 4.3 3.4]\n"
     ]
    }
   ],
   "source": [
    "X2 = data_with_area.drop(\"rate\", axis = 1).values\n",
    "Y2 = data_with_area[\"rate\"].values\n",
    "\n",
    "print(\"X = \", X2)\n",
    "print()\n",
    "print(\"Y = \", Y2)"
   ]
  },
  {
   "cell_type": "markdown",
   "id": "annoying-stone",
   "metadata": {},
   "source": [
    "<br>"
   ]
  },
  {
   "cell_type": "code",
   "execution_count": 56,
   "id": "directed-nurse",
   "metadata": {},
   "outputs": [],
   "source": [
    "from sklearn.ensemble import ExtraTreesRegressor"
   ]
  },
  {
   "cell_type": "code",
   "execution_count": 57,
   "id": "thick-round",
   "metadata": {},
   "outputs": [
    {
     "name": "stdout",
     "output_type": "stream",
     "text": [
      "[1.73497330e-02 1.67307808e-01 2.89803919e-01 4.79292538e-02\n",
      " 2.92236520e-03 7.70039888e-05 1.72738329e-03 8.33535972e-05\n",
      " 6.50285643e-07 5.64388168e-03 1.04344627e-02 8.47101522e-07\n",
      " 2.93117256e-03 3.71140097e-03 3.47498348e-03 6.54255818e-04\n",
      " 1.26808380e-02 1.04506712e-02 1.22911599e-03 8.83212996e-04\n",
      " 3.81009199e-04 5.57746369e-04 3.39926671e-03 2.66421536e-06\n",
      " 2.61266428e-03 3.59638978e-16 1.08498128e-05 9.73228937e-04\n",
      " 1.93691441e-04 5.82567430e-06 1.42824896e-03 4.01249937e-06\n",
      " 1.41733706e-03 2.09700493e-02 7.56598948e-05 1.04584574e-03\n",
      " 3.32712248e-05 1.20575377e-06 3.31293006e-04 2.82711826e-03\n",
      " 1.51052484e-06 1.95834376e-03 4.64226670e-03 1.27053115e-02\n",
      " 3.27005837e-03 7.54209807e-06 2.09787002e-05 3.90331417e-03\n",
      " 6.50224930e-03 5.62289166e-03 3.89648481e-03 2.54491799e-06\n",
      " 2.69405788e-04 7.30802670e-06 1.65426807e-05 2.57426015e-03\n",
      " 8.92758212e-04 2.90374874e-04 6.20581649e-18 3.69104683e-03\n",
      " 7.43739159e-06 4.35786537e-05 7.55180769e-05 7.10111497e-06\n",
      " 1.19460581e-05 1.59872131e-02 9.99542000e-04 6.54349666e-03\n",
      " 3.56138604e-17 1.52514930e-05 5.68286999e-05 2.84183481e-03\n",
      " 1.35410456e-05 1.47611924e-04 3.69409031e-04 3.89257932e-04\n",
      " 6.24781897e-04 1.46214576e-03 2.67131140e-05 1.94063077e-03\n",
      " 1.02965656e-04 5.53414025e-06 1.24784631e-02 4.28699859e-05\n",
      " 8.33494507e-04 1.38949665e-03 1.08536178e-05 3.42676399e-04\n",
      " 2.39232258e-05 1.77238938e-04 1.68954321e-03 8.20016201e-04\n",
      " 9.56153081e-06 4.42299848e-04 1.03895651e-02 5.84049359e-04\n",
      " 1.22045537e-04 1.98023003e-03 3.85254499e-05 1.08459140e-06\n",
      " 4.15342785e-03 6.04791195e-04 1.29475926e-03 2.89096528e-04\n",
      " 1.57229509e-04 2.38822468e-03 1.92492291e-04 1.53745671e-03\n",
      " 3.19171869e-03 5.01527895e-03 1.18050943e-04 1.30383561e-06\n",
      " 1.38173610e-03 6.11720069e-03 2.46403756e-03 1.71371830e-03\n",
      " 8.51775297e-05 8.36657202e-05 1.19654842e-06 5.38425366e-03\n",
      " 2.38658028e-03 1.18812838e-05 9.75697528e-03 2.11580684e-04\n",
      " 7.01476629e-05 1.20478117e-05 8.95570249e-07 3.44736479e-04\n",
      " 2.43906440e-06 6.22545592e-03 3.46054301e-04 3.83335838e-03\n",
      " 2.11587547e-03 2.44733047e-04 1.06034348e-02 3.71706187e-03\n",
      " 2.70708953e-03 7.21826468e-03 2.46370528e-03 9.29364993e-04\n",
      " 6.04507153e-03 3.30450053e-03 6.18805591e-03 4.78517042e-03\n",
      " 2.78411608e-04 1.54371631e-05 3.64100913e-03 4.44641179e-04\n",
      " 2.76859532e-03 2.85696414e-03 3.48277643e-03 2.19691142e-04\n",
      " 1.07419329e-03 5.48679441e-03 3.24480928e-03 4.21110066e-04\n",
      " 7.30880730e-03 1.06372492e-04 1.16581456e-03 2.16913500e-04\n",
      " 9.78557204e-04 9.18239970e-03 8.66572654e-04 7.38771096e-03\n",
      " 1.03541610e-18 1.33417067e-04 5.64112086e-03 2.12478758e-03\n",
      " 2.79401861e-05 9.49342805e-04 3.45209755e-03 2.12257951e-03\n",
      " 8.54007624e-05 2.15570370e-06 2.53323305e-04 4.04289166e-03\n",
      " 2.26676187e-04 3.03419381e-04 4.15495273e-03 6.98538037e-03\n",
      " 5.78400199e-03 4.98610291e-03 9.67915006e-04 1.06364366e-03\n",
      " 3.04970851e-05 1.71802077e-03 8.08575364e-03 1.20263981e-04\n",
      " 3.21190887e-04 3.34735957e-03 8.71977045e-03 4.26029521e-05\n",
      " 9.69255856e-07 1.63996222e-03 2.94528984e-03 6.92285845e-05\n",
      " 2.29432482e-03 5.89375847e-04 6.56524698e-07 3.66254310e-04\n",
      " 2.52780517e-04 2.19760381e-03 3.46054283e-06 5.25736605e-04\n",
      " 2.61254160e-03 2.91103243e-03 5.13067372e-04 3.32647113e-04\n",
      " 3.55693095e-04 1.97022425e-05 5.17643602e-03 8.92531630e-04\n",
      " 3.02568222e-03 7.69038535e-04 2.84662800e-04 1.67663343e-03\n",
      " 5.86446023e-04 3.94410252e-03 5.79253526e-05 6.55755225e-04\n",
      " 1.04795646e-03 2.66356532e-04 2.12253756e-05 7.06348863e-03\n",
      " 6.06526901e-04 1.59669996e-06 8.63050118e-04]\n"
     ]
    }
   ],
   "source": [
    "# Extracting Important features from data_with_location Dataframe\n",
    "imp_features1 = ExtraTreesRegressor()\n",
    "imp_features1.fit(X1, Y1)\n",
    "print(imp_features1.feature_importances_)"
   ]
  },
  {
   "cell_type": "code",
   "execution_count": 58,
   "id": "located-guarantee",
   "metadata": {},
   "outputs": [
    {
     "data": {
      "text/plain": [
       "<AxesSubplot:>"
      ]
     },
     "execution_count": 58,
     "metadata": {},
     "output_type": "execute_result"
    },
    {
     "data": {
      "image/png": "[encoded data removed]",
      "text/plain": [
       "<Figure size 864x576 with 1 Axes>"
      ]
     },
     "metadata": {},
     "output_type": "display_data"
    }
   ],
   "source": [
    "plt.figure(figsize = (12, 8))\n",
    "columns = data_with_location.drop(\"rate\", axis = 1).columns\n",
    "fseries = pd.Series(imp_features1.feature_importances_, index = columns)\n",
    "fseries.nlargest(30).plot(kind = \"barh\")"
   ]
  },
  {
   "cell_type": "code",
   "execution_count": 59,
   "id": "specified-study",
   "metadata": {},
   "outputs": [
    {
     "name": "stdout",
     "output_type": "stream",
     "text": [
      "[2.20655480e-02 1.61424986e-01 3.25692378e-01 7.18979108e-02\n",
      " 4.13145437e-03 2.08494359e-04 3.06066919e-03 9.19813998e-05\n",
      " 6.90406837e-07 6.50632484e-03 1.24247107e-02 2.06621233e-06\n",
      " 3.80463766e-03 3.86878416e-03 3.91498210e-03 9.76239822e-04\n",
      " 1.38761577e-02 1.20136092e-02 1.67105250e-03 1.03476602e-03\n",
      " 5.07761414e-04 8.06541740e-04 3.78409629e-03 1.49369584e-05\n",
      " 3.39769066e-03 3.43178922e-16 2.06913126e-05 1.30894063e-03\n",
      " 2.07507682e-04 1.76225856e-05 1.94723569e-03 5.79945711e-06\n",
      " 2.01561844e-03 2.09038290e-02 6.02359790e-05 1.35843025e-03\n",
      " 5.66061094e-05 2.13819509e-06 3.94649038e-04 3.94478049e-03\n",
      " 4.82372998e-06 2.87572971e-03 6.90312699e-03 1.45630243e-02\n",
      " 3.44562484e-03 8.44278743e-06 2.97771751e-05 5.23007534e-03\n",
      " 7.92676418e-03 1.06152170e-02 5.41867430e-03 8.33226871e-07\n",
      " 4.15402284e-04 1.04883049e-05 3.66667723e-05 3.53899218e-03\n",
      " 1.01023344e-03 2.97644776e-04 3.11634802e-20 4.66257092e-03\n",
      " 8.53822451e-06 9.20672558e-05 8.49620790e-05 1.12465277e-05\n",
      " 1.89049841e-05 1.71114135e-02 1.30340692e-03 9.45022905e-03\n",
      " 1.21176299e-15 2.88010878e-05 1.12742802e-04 3.26511241e-03\n",
      " 2.36911000e-05 3.24209990e-04 4.13532283e-04 4.79860928e-04\n",
      " 7.74502140e-04 1.93607749e-03 3.82804539e-05 2.62027862e-03\n",
      " 1.37637097e-04 2.63119849e-05 1.63587488e-02 1.38487494e-04\n",
      " 1.02744129e-03 2.87811994e-03 4.02825295e-05 3.29082567e-04\n",
      " 3.88220206e-05 2.38383267e-04 2.18808783e-03 8.40917578e-04\n",
      " 1.35999152e-05 6.71635337e-04 1.25865621e-02 6.71961543e-04\n",
      " 1.99205250e-04 2.99041268e-03 7.58727208e-05 9.16366348e-07\n",
      " 5.03725051e-03 8.46973563e-04 2.04402868e-03 4.16833687e-04\n",
      " 2.15844882e-04 2.99555290e-03 2.03998964e-04 1.62865710e-03\n",
      " 3.61023114e-03 6.67494687e-03 1.75620111e-04 3.36265531e-06\n",
      " 1.56332090e-03 9.27331788e-03 3.16920670e-03 2.54084160e-03\n",
      " 1.41589756e-04 1.26683574e-04 1.15541750e-06 6.42126078e-03\n",
      " 3.12652619e-03 2.18613829e-05 1.24257110e-02 3.21473883e-04\n",
      " 6.52120521e-05 1.13916941e-05 1.34819611e-06 4.34157036e-04\n",
      " 2.41944841e-06 8.11062396e-03 5.40179657e-04 5.43705709e-03\n",
      " 2.72524409e-03 2.38340567e-04 2.01932280e-03 1.94040183e-03\n",
      " 3.52784605e-03 1.98064905e-03 3.96920322e-03 9.45108331e-04\n",
      " 6.52604952e-03 6.63489144e-04 5.68925964e-03 1.57783434e-03\n",
      " 4.03441537e-03 4.31520819e-03 2.62970098e-03 2.28251586e-03\n",
      " 2.81300758e-03 3.17736579e-03 9.86484661e-04 6.89672154e-04\n",
      " 6.75966253e-04 8.44479921e-04 1.12968719e-03 1.21677682e-03\n",
      " 2.92459667e-03 6.48717598e-03 3.03520922e-03 3.67508172e-03\n",
      " 2.66408874e-03 1.04940680e-03 4.39190904e-03 5.61884935e-03]\n"
     ]
    }
   ],
   "source": [
    "imp_features2 = ExtraTreesRegressor()\n",
    "imp_features2.fit(X2, Y2)\n",
    "print(imp_features2.feature_importances_)"
   ]
  },
  {
   "cell_type": "code",
   "execution_count": 60,
   "id": "compressed-andrew",
   "metadata": {},
   "outputs": [
    {
     "data": {
      "text/plain": [
       "<AxesSubplot:>"
      ]
     },
     "execution_count": 60,
     "metadata": {},
     "output_type": "execute_result"
    },
    {
     "data": {
      "image/png": "[encoded data removed]",
      "text/plain": [
       "<Figure size 864x576 with 1 Axes>"
      ]
     },
     "metadata": {},
     "output_type": "display_data"
    }
   ],
   "source": [
    "plt.figure(figsize = (12, 8))\n",
    "columns = data_with_area.drop(\"rate\", axis = 1).columns\n",
    "fseries = pd.Series(imp_features2.feature_importances_, index = columns)\n",
    "fseries.nlargest(30).plot(kind = \"barh\")"
   ]
  },
  {
   "cell_type": "markdown",
   "id": "pressed-butler",
   "metadata": {},
   "source": [
    "<br>"
   ]
  },
  {
   "cell_type": "markdown",
   "id": "da6479d2",
   "metadata": {},
   "source": [
    "## Train Test Splitting of Data"
   ]
  },
  {
   "cell_type": "code",
   "execution_count": 61,
   "id": "47fc9ad5",
   "metadata": {},
   "outputs": [],
   "source": [
    "from sklearn.model_selection import train_test_split"
   ]
  },
  {
   "cell_type": "code",
   "execution_count": 62,
   "id": "5456fe82",
   "metadata": {},
   "outputs": [],
   "source": [
    "X1_train, X1_test, Y1_train, Y1_test = train_test_split(X1, Y1, test_size=0.2, random_state=42)"
   ]
  },
  {
   "cell_type": "code",
   "execution_count": 63,
   "id": "7f26c569",
   "metadata": {},
   "outputs": [],
   "source": [
    "X2_train, X2_test, Y2_train, Y2_test = train_test_split(X2, Y2, test_size=0.2, random_state=45)"
   ]
  },
  {
   "cell_type": "markdown",
   "id": "statutory-consortium",
   "metadata": {},
   "source": [
    "<br>"
   ]
  },
  {
   "cell_type": "markdown",
   "id": "5bb1e7ae",
   "metadata": {},
   "source": [
    "## Importing ML Models"
   ]
  },
  {
   "cell_type": "code",
   "execution_count": 64,
   "id": "8618cb7a",
   "metadata": {},
   "outputs": [],
   "source": [
    "from sklearn.linear_model import LinearRegression\n",
    "from sklearn.ensemble import RandomForestRegressor\n",
    "from sklearn.tree import DecisionTreeRegressor"
   ]
  },
  {
   "cell_type": "markdown",
   "id": "c9c27379",
   "metadata": {},
   "source": [
    "### Linear Regression"
   ]
  },
  {
   "cell_type": "markdown",
   "id": "c8adc4a1",
   "metadata": {},
   "source": [
    "#### For data_with_location"
   ]
  },
  {
   "cell_type": "code",
   "execution_count": 65,
   "id": "7e0cd15d",
   "metadata": {},
   "outputs": [
    {
     "data": {
      "text/plain": [
       "LinearRegression()"
      ]
     },
     "execution_count": 65,
     "metadata": {},
     "output_type": "execute_result"
    }
   ],
   "source": [
    "lr1 = LinearRegression()\n",
    "lr1.fit(X1_train, Y1_train)"
   ]
  },
  {
   "cell_type": "code",
   "execution_count": 66,
   "id": "293b1ddc",
   "metadata": {},
   "outputs": [
    {
     "data": {
      "text/plain": [
       "array([3.59842095, 3.79314729, 3.58246313, 3.48453781, 3.54911858,\n",
       "       3.86078185, 3.57360405, 3.49362775, 3.86837198, 3.53854682,\n",
       "       3.53894707, 3.66695723, 3.52999025, 3.61098495, 4.13777133,\n",
       "       3.38109923, 3.79516245, 4.33883224, 3.50354697, 3.429606  ,\n",
       "       3.45267673, 3.47351886, 3.84281261, 3.61792553, 3.51014983,\n",
       "       3.53499089, 3.84186274, 3.78805962, 3.64354086, 3.51003124,\n",
       "       3.63136543, 3.68449124, 3.94075469, 3.7367096 , 3.50586451,\n",
       "       3.46090123, 4.49197891, 3.5768909 , 3.44830891, 3.79047545,\n",
       "       3.61026277, 3.80753047, 3.55868624, 3.77055884, 3.4899659 ,\n",
       "       3.60305986, 3.62821693, 3.49645813, 4.43527374, 4.16001406,\n",
       "       3.51686224, 4.42523589, 3.63541475, 3.43397489, 3.61012108,\n",
       "       3.72063299, 3.59530734, 3.54345125, 3.62358271, 3.52398522,\n",
       "       3.76933367, 3.82226402, 3.48584428, 3.65376135, 4.02413128,\n",
       "       4.30118549, 3.48148102, 3.61607414, 3.76684806, 3.50513566,\n",
       "       3.66760143, 3.47916749, 3.60942462, 3.53674262, 3.44939577,\n",
       "       3.75321203, 3.78915287, 3.74620971, 3.52376231, 3.65923678,\n",
       "       3.71370498, 3.70409993, 3.47893004, 3.47917826, 3.66659107,\n",
       "       4.04456138, 3.64354086, 4.04826255, 3.64329237, 3.66570718,\n",
       "       3.61025638, 3.57945297, 3.95575952, 3.75626363, 3.77155212,\n",
       "       3.83458373, 3.83504789, 3.55339255, 3.71803242, 4.02444899])"
      ]
     },
     "execution_count": 66,
     "metadata": {},
     "output_type": "execute_result"
    }
   ],
   "source": [
    "Y_lr1= lr1.predict(X1_test)\n",
    "Y_lr1[:100]"
   ]
  },
  {
   "cell_type": "code",
   "execution_count": 67,
   "id": "98208edd",
   "metadata": {},
   "outputs": [
    {
     "data": {
      "image/png": "[encoded data removed]",
      "text/plain": [
       "<Figure size 864x576 with 1 Axes>"
      ]
     },
     "metadata": {},
     "output_type": "display_data"
    }
   ],
   "source": [
    "plt.figure(figsize=(12,8))\n",
    "sns.histplot(Y1_test - Y_lr1, kde=True)\n",
    "plt.show()"
   ]
  },
  {
   "cell_type": "markdown",
   "id": "b4d2e940",
   "metadata": {},
   "source": [
    "#### For data_with_area"
   ]
  },
  {
   "cell_type": "code",
   "execution_count": 68,
   "id": "165a4951",
   "metadata": {},
   "outputs": [
    {
     "data": {
      "text/plain": [
       "LinearRegression()"
      ]
     },
     "execution_count": 68,
     "metadata": {},
     "output_type": "execute_result"
    }
   ],
   "source": [
    "lr2 = LinearRegression()\n",
    "lr2.fit(X2_train, Y2_train)"
   ]
  },
  {
   "cell_type": "code",
   "execution_count": 69,
   "id": "a1d7e796",
   "metadata": {},
   "outputs": [
    {
     "data": {
      "text/plain": [
       "array([3.51048882, 3.64624727, 3.91010291, 3.5310687 , 3.63902146,\n",
       "       3.50307539, 4.12011187, 3.80908364, 3.67520392, 3.50085444,\n",
       "       3.60862335, 3.70999879, 3.67316422, 4.08726229, 3.65341947,\n",
       "       3.65980031, 4.04504739, 3.58494806, 4.14987018, 3.58862444,\n",
       "       3.64562671, 3.83260972, 3.50762822, 3.68342688, 3.70324063,\n",
       "       3.95263685, 4.13305177, 3.46835315, 3.47583025, 3.63654953,\n",
       "       3.72160944, 3.69534413, 3.8050545 , 3.77048172, 3.53513794,\n",
       "       3.48923858, 4.28697051, 3.50903821, 3.75349993, 3.69338207,\n",
       "       3.70443475, 3.60136421, 4.05891546, 3.61024504, 3.55934397,\n",
       "       3.81244436, 3.81456064, 3.50414448, 3.43098915, 3.51496927,\n",
       "       3.50303322, 3.82541065, 3.83833245, 3.52617849, 3.85815489,\n",
       "       3.84711823, 3.57644781, 3.67179775, 3.55948445, 3.57708213,\n",
       "       3.63459424, 4.12782089, 3.59805804, 3.48051497, 4.20969075,\n",
       "       3.78838586, 3.97159693, 3.64282754, 3.63616819, 3.78291687,\n",
       "       3.67089778, 3.88598112, 3.53337802, 3.78804375, 3.50613344,\n",
       "       4.34315201, 3.51727086, 3.80273326, 3.91025386, 3.52865766,\n",
       "       3.59452573, 4.02355483, 4.05226091, 3.74532676, 4.01648087,\n",
       "       3.75639088, 3.49604736, 4.05778422, 4.0555774 , 3.50822673,\n",
       "       3.52899145, 3.54964665, 4.00533319, 3.69243693, 3.49620613,\n",
       "       3.88080211, 3.50103641, 3.5804509 , 3.54935095, 3.58663405])"
      ]
     },
     "execution_count": 69,
     "metadata": {},
     "output_type": "execute_result"
    }
   ],
   "source": [
    "Y_lr2 = lr2.predict(X2_test)\n",
    "Y_lr2[:100]"
   ]
  },
  {
   "cell_type": "code",
   "execution_count": 70,
   "id": "e079e573",
   "metadata": {},
   "outputs": [
    {
     "data": {
      "image/png": "[encoded data removed]",
      "text/plain": [
       "<Figure size 864x576 with 1 Axes>"
      ]
     },
     "metadata": {},
     "output_type": "display_data"
    }
   ],
   "source": [
    "plt.figure(figsize=(12,8))\n",
    "sns.histplot(Y2_test - Y_lr2, kde=True)\n",
    "plt.show()"
   ]
  },
  {
   "cell_type": "markdown",
   "id": "aef389dc",
   "metadata": {},
   "source": [
    "### Random Forest Regression"
   ]
  },
  {
   "cell_type": "markdown",
   "id": "a1e6ca16",
   "metadata": {},
   "source": [
    "#### For data_with_location"
   ]
  },
  {
   "cell_type": "code",
   "execution_count": 71,
   "id": "dd648902",
   "metadata": {},
   "outputs": [
    {
     "data": {
      "text/plain": [
       "RandomForestRegressor()"
      ]
     },
     "execution_count": 71,
     "metadata": {},
     "output_type": "execute_result"
    }
   ],
   "source": [
    "rf1 = RandomForestRegressor()\n",
    "rf1.fit(X1_train, Y1_train)"
   ]
  },
  {
   "cell_type": "code",
   "execution_count": 72,
   "id": "a4d318f1",
   "metadata": {},
   "outputs": [
    {
     "data": {
      "text/plain": [
       "array([3.226     , 3.55238333, 3.7       , 3.20352273, 3.259     ,\n",
       "       4.101     , 3.604     , 3.7       , 4.2       , 3.7       ,\n",
       "       3.5       , 3.7       , 3.7       , 3.7       , 4.349     ,\n",
       "       3.2857381 , 3.95883333, 4.2       , 3.7       , 3.2       ,\n",
       "       3.163     , 3.7       , 3.7       , 3.73605   , 3.604     ,\n",
       "       3.81139762, 3.7       , 4.296     , 3.5       , 3.374     ,\n",
       "       3.502     , 3.30386905, 4.197     , 4.4       , 3.984     ,\n",
       "       3.221     , 4.425     , 3.443     , 3.7       , 4.114     ,\n",
       "       3.787     , 3.7       , 3.60366667, 4.128     , 3.442     ,\n",
       "       3.597     , 4.017     , 3.28      , 4.4       , 4.201     ,\n",
       "       3.8       , 4.2       , 3.7       , 3.022     , 3.7       ,\n",
       "       3.865     , 3.3       , 3.803     , 3.7       , 3.7       ,\n",
       "       3.7       , 3.898     , 2.885     , 3.6545    , 4.        ,\n",
       "       4.10603571, 3.2845    , 3.109     , 3.983     , 3.305     ,\n",
       "       3.7       , 3.699     , 3.622     , 3.387125  , 3.5422    ,\n",
       "       3.514     , 3.9       , 3.7       , 3.61305418, 3.7       ,\n",
       "       3.7       , 4.213     , 3.43065   , 3.453     , 3.3       ,\n",
       "       3.9       , 3.5       , 4.357     , 3.477375  , 4.183     ,\n",
       "       3.7       , 3.        , 3.8       , 3.798     , 3.586     ,\n",
       "       4.102     , 4.        , 3.8       , 4.083     , 4.2       ])"
      ]
     },
     "execution_count": 72,
     "metadata": {},
     "output_type": "execute_result"
    }
   ],
   "source": [
    "Y_rf1 = rf1.predict(X1_test)\n",
    "Y_rf1[:100]"
   ]
  },
  {
   "cell_type": "code",
   "execution_count": 73,
   "id": "91dc8e48",
   "metadata": {},
   "outputs": [
    {
     "data": {
      "image/png": "[encoded data removed]",
      "text/plain": [
       "<Figure size 864x576 with 1 Axes>"
      ]
     },
     "metadata": {},
     "output_type": "display_data"
    }
   ],
   "source": [
    "plt.figure(figsize=(12,8))\n",
    "sns.histplot(Y1_test - Y_rf1, kde=True, bins=100)\n",
    "plt.show()"
   ]
  },
  {
   "cell_type": "markdown",
   "id": "c08b8b87",
   "metadata": {},
   "source": [
    "#### For data_with_area"
   ]
  },
  {
   "cell_type": "code",
   "execution_count": 74,
   "id": "3ca7b7b1",
   "metadata": {},
   "outputs": [
    {
     "data": {
      "text/plain": [
       "RandomForestRegressor()"
      ]
     },
     "execution_count": 74,
     "metadata": {},
     "output_type": "execute_result"
    }
   ],
   "source": [
    "rf2 = RandomForestRegressor()\n",
    "rf2.fit(X2_train, Y2_train)"
   ]
  },
  {
   "cell_type": "code",
   "execution_count": 75,
   "id": "72c97918",
   "metadata": {},
   "outputs": [
    {
     "data": {
      "text/plain": [
       "array([3.7       , 4.085     , 4.3       , 3.375     , 3.375     ,\n",
       "       3.7       , 4.2       , 4.193     , 3.116     , 3.797     ,\n",
       "       3.471     , 3.7       , 3.7       , 4.194     , 3.693     ,\n",
       "       3.3       , 4.415     , 3.789     , 4.253     , 3.7       ,\n",
       "       4.174     , 4.001     , 3.312     , 3.9       , 3.7       ,\n",
       "       4.287     , 4.1       , 3.47133333, 3.7       , 3.7       ,\n",
       "       3.608     , 3.895     , 4.081     , 3.896     , 3.7       ,\n",
       "       3.1905    , 4.503     , 3.151     , 3.113     , 3.501     ,\n",
       "       2.874     , 4.008     , 4.549     , 3.7       , 3.7       ,\n",
       "       4.104     , 3.932     , 2.845     , 3.625     , 3.53      ,\n",
       "       3.016     , 4.036     , 3.7       , 3.014     , 3.687     ,\n",
       "       3.9       , 3.556     , 3.804     , 3.7       , 3.402     ,\n",
       "       3.415     , 4.2       , 3.868     , 3.7       , 4.4       ,\n",
       "       3.997     , 4.054     , 3.713     , 3.428     , 3.868     ,\n",
       "       3.20135   , 4.1       , 3.7       , 3.69786667, 3.746     ,\n",
       "       4.783     , 3.411     , 3.873     , 4.099     , 3.747     ,\n",
       "       3.594     , 3.695     , 4.457     , 3.7       , 3.828     ,\n",
       "       3.807     , 3.44853333, 4.302     , 4.456     , 3.154     ,\n",
       "       3.7       , 3.288     , 3.895     , 3.897     , 3.209     ,\n",
       "       4.026     , 3.7       , 3.7       , 3.303     , 3.898     ])"
      ]
     },
     "execution_count": 75,
     "metadata": {},
     "output_type": "execute_result"
    }
   ],
   "source": [
    "Y_rf2 = rf2.predict(X2_test)\n",
    "Y_rf2[:100]"
   ]
  },
  {
   "cell_type": "code",
   "execution_count": 76,
   "id": "6b347313",
   "metadata": {},
   "outputs": [
    {
     "data": {
      "image/png": "[encoded data removed]",
      "text/plain": [
       "<Figure size 864x576 with 1 Axes>"
      ]
     },
     "metadata": {},
     "output_type": "display_data"
    }
   ],
   "source": [
    "plt.figure(figsize=(12,8))\n",
    "sns.histplot(Y2_test - Y_rf2, kde=True, bins=100)\n",
    "plt.show()"
   ]
  },
  {
   "cell_type": "markdown",
   "id": "4d35cfa2",
   "metadata": {},
   "source": [
    "### Decision Tree Regressor"
   ]
  },
  {
   "cell_type": "markdown",
   "id": "1f207bcc",
   "metadata": {},
   "source": [
    "#### For data_with_location"
   ]
  },
  {
   "cell_type": "code",
   "execution_count": 77,
   "id": "ab7e98c4",
   "metadata": {},
   "outputs": [
    {
     "data": {
      "text/plain": [
       "DecisionTreeRegressor()"
      ]
     },
     "execution_count": 77,
     "metadata": {},
     "output_type": "execute_result"
    }
   ],
   "source": [
    "dt1 = DecisionTreeRegressor()\n",
    "dt1.fit(X1_train, Y1_train)"
   ]
  },
  {
   "cell_type": "code",
   "execution_count": 78,
   "id": "f4e04b86",
   "metadata": {},
   "outputs": [
    {
     "data": {
      "text/plain": [
       "array([3.2       , 2.9       , 3.7       , 3.2       , 3.2       ,\n",
       "       4.1       , 3.6       , 3.7       , 4.2       , 3.7       ,\n",
       "       3.5       , 3.7       , 3.7       , 3.7       , 4.4       ,\n",
       "       3.2       , 4.05      , 4.2       , 3.7       , 3.2       ,\n",
       "       3.1       , 3.7       , 3.7       , 3.75      , 3.6       ,\n",
       "       3.85      , 3.7       , 4.3       , 3.5       , 3.4       ,\n",
       "       3.5       , 3.3       , 4.2       , 4.4       , 4.        ,\n",
       "       3.1       , 4.4       , 3.5       , 3.7       , 4.1       ,\n",
       "       3.8       , 3.7       , 3.5       , 3.9       , 2.9       ,\n",
       "       3.6       , 4.        , 3.3       , 4.4       , 4.2       ,\n",
       "       3.8       , 4.2       , 3.7       , 3.        , 3.7       ,\n",
       "       3.9       , 3.3       , 3.9       , 3.7       , 3.7       ,\n",
       "       3.7       , 3.9       , 2.9       , 3.7       , 4.        ,\n",
       "       4.1       , 3.3       , 3.1       , 4.        , 3.3       ,\n",
       "       3.7       , 3.7       , 3.6       , 3.5       , 3.6       ,\n",
       "       3.5       , 3.9       , 3.7       , 3.61428571, 3.7       ,\n",
       "       3.7       , 4.2       , 3.5       , 3.5       , 3.3       ,\n",
       "       3.9       , 3.5       , 4.4       , 3.475     , 4.2       ,\n",
       "       3.7       , 3.        , 3.8       , 3.8       , 3.6       ,\n",
       "       4.1       , 4.        , 3.8       , 4.1       , 4.2       ])"
      ]
     },
     "execution_count": 78,
     "metadata": {},
     "output_type": "execute_result"
    }
   ],
   "source": [
    "Y_dt1 = dt1.predict(X1_test)\n",
    "Y_dt1[:100]"
   ]
  },
  {
   "cell_type": "code",
   "execution_count": 79,
   "id": "a09b1f53",
   "metadata": {},
   "outputs": [
    {
     "data": {
      "image/png": "[encoded data removed]",
      "text/plain": [
       "<Figure size 864x576 with 1 Axes>"
      ]
     },
     "metadata": {},
     "output_type": "display_data"
    }
   ],
   "source": [
    "plt.figure(figsize=(12,8))\n",
    "plt.hist(Y1_test - Y_dt1, bins=100, alpha=0.7)\n",
    "plt.show()"
   ]
  },
  {
   "cell_type": "markdown",
   "id": "1b34ac75",
   "metadata": {},
   "source": [
    "#### For data_with_area"
   ]
  },
  {
   "cell_type": "code",
   "execution_count": 80,
   "id": "26a1b8d9",
   "metadata": {},
   "outputs": [
    {
     "data": {
      "text/plain": [
       "DecisionTreeRegressor()"
      ]
     },
     "execution_count": 80,
     "metadata": {},
     "output_type": "execute_result"
    }
   ],
   "source": [
    "dt2 = DecisionTreeRegressor()\n",
    "dt2.fit(X2_train, Y2_train)"
   ]
  },
  {
   "cell_type": "code",
   "execution_count": 81,
   "id": "e469999b",
   "metadata": {},
   "outputs": [
    {
     "data": {
      "text/plain": [
       "array([3.7, 4.1, 4.3, 3. , 3.5, 3.7, 4.2, 4.2, 3.1, 3.9, 3.7, 3.7, 3.7,\n",
       "       4.2, 3.7, 3.3, 4.4, 2.7, 4.3, 3.7, 4.2, 4. , 3.2, 3.9, 3.7, 4.3,\n",
       "       4.1, 3.5, 3.7, 3.7, 3.6, 3.9, 4.1, 3.9, 3.7, 3.3, 4.5, 3.1, 2.8,\n",
       "       3.5, 2.8, 3.8, 4.6, 3.7, 3.7, 4.6, 3.9, 2.7, 3.7, 3.5, 3.1, 4.1,\n",
       "       3.7, 3. , 3.6, 3.9, 3.6, 3.9, 3.7, 3.4, 3.4, 4.2, 4. , 3.7, 4.4,\n",
       "       4. , 4. , 3.7, 3.4, 4.1, 3.1, 4.1, 3.7, 3.7, 3.9, 4.8, 3.4, 4. ,\n",
       "       4.1, 4. , 3.6, 3.7, 4.5, 3.7, 3.8, 4. , 3.5, 4.3, 4.5, 3.1, 3.7,\n",
       "       3.3, 3.8, 3.9, 3.2, 4. , 3.7, 3.7, 3.3, 3.9])"
      ]
     },
     "execution_count": 81,
     "metadata": {},
     "output_type": "execute_result"
    }
   ],
   "source": [
    "Y_dt2 = dt2.predict(X2_test)\n",
    "Y_dt2[:100]"
   ]
  },
  {
   "cell_type": "code",
   "execution_count": 82,
   "id": "cb00bf95",
   "metadata": {},
   "outputs": [
    {
     "data": {
      "image/png": "[encoded data removed]",
      "text/plain": [
       "<Figure size 864x576 with 1 Axes>"
      ]
     },
     "metadata": {},
     "output_type": "display_data"
    }
   ],
   "source": [
    "plt.figure(figsize=(12,8))\n",
    "plt.hist(Y2_test - Y_dt2, bins=100, alpha=0.7)\n",
    "plt.show()"
   ]
  },
  {
   "cell_type": "markdown",
   "id": "61b3b8e9",
   "metadata": {},
   "source": [
    "## Model Evaluation"
   ]
  },
  {
   "cell_type": "code",
   "execution_count": 83,
   "id": "74216879",
   "metadata": {},
   "outputs": [],
   "source": [
    "from sklearn.metrics import mean_absolute_error, mean_squared_error, r2_score"
   ]
  },
  {
   "cell_type": "markdown",
   "id": "e12e1c52",
   "metadata": {},
   "source": [
    "### Linear Regression Model "
   ]
  },
  {
   "cell_type": "markdown",
   "id": "6a96a338",
   "metadata": {},
   "source": [
    "#### for data_with_location"
   ]
  },
  {
   "cell_type": "code",
   "execution_count": 84,
   "id": "66d02d34",
   "metadata": {},
   "outputs": [
    {
     "name": "stdout",
     "output_type": "stream",
     "text": [
      "Coefficient of Determination for train data :  0.35719946892107624\n",
      "Coefficient of Determination for test data :  0.3581551910448427\n",
      "Mean Absolute Error :  0.24026687273293706\n",
      "Mean Squared Error :  0.10121314845708147\n",
      "Root Mean Squared Error :  0.31814013965088006\n",
      "R2 Score :  0.3581551910448427\n"
     ]
    }
   ],
   "source": [
    "mae =  mean_absolute_error(Y1_test, Y_lr1)\n",
    "mse = mean_squared_error(Y1_test, Y_lr1)\n",
    "r2score = r2_score(Y1_test, Y_lr1)\n",
    "\n",
    "print(\"Coefficient of Determination for train data : \",lr1.score(X1_train, Y1_train))\n",
    "print(\"Coefficient of Determination for test data : \",lr1.score(X1_test, Y1_test))\n",
    "print(\"Mean Absolute Error : \", mae)\n",
    "print(\"Mean Squared Error : \", mse) \n",
    "print(\"Root Mean Squared Error : \", np.sqrt(mse))\n",
    "print(\"R2 Score : \", r2score) "
   ]
  },
  {
   "cell_type": "markdown",
   "id": "e347caad",
   "metadata": {},
   "source": [
    "#### for data_with_area"
   ]
  },
  {
   "cell_type": "code",
   "execution_count": 85,
   "id": "c8e0763b",
   "metadata": {},
   "outputs": [
    {
     "name": "stdout",
     "output_type": "stream",
     "text": [
      "Coefficient of Determination for train data :  0.34422351544164764\n",
      "Coefficient of Determination for test data :  0.34420175633556715\n",
      "Mean Absolute Error :  0.24307669761574768\n",
      "Mean Squared Error :  0.10278300226406102\n",
      "Root Mean Squared Error :  0.3205978825009002\n",
      "R2 Score :  0.34420175633556715\n"
     ]
    }
   ],
   "source": [
    "mae =  mean_absolute_error(Y2_test, Y_lr2)\n",
    "mse = mean_squared_error(Y2_test, Y_lr2)\n",
    "r2score = r2_score(Y2_test, Y_lr2)\n",
    "\n",
    "print(\"Coefficient of Determination for train data : \",lr2.score(X2_train, Y2_train))\n",
    "print(\"Coefficient of Determination for test data : \",lr2.score(X2_test, Y2_test))\n",
    "print(\"Mean Absolute Error : \", mae)\n",
    "print(\"Mean Squared Error : \", mse) \n",
    "print(\"Root Mean Squared Error : \", np.sqrt(mse))\n",
    "print(\"R2 Score : \", r2score) "
   ]
  },
  {
   "cell_type": "markdown",
   "id": "6b92db11",
   "metadata": {},
   "source": [
    "### Random Forest Regression Model "
   ]
  },
  {
   "cell_type": "markdown",
   "id": "37fe18b6",
   "metadata": {},
   "source": [
    "#### for data_with_location"
   ]
  },
  {
   "cell_type": "code",
   "execution_count": 86,
   "id": "5e5d7eb1",
   "metadata": {},
   "outputs": [
    {
     "name": "stdout",
     "output_type": "stream",
     "text": [
      "Coefficient of Determination for train data :  0.9901505091609675\n",
      "Coefficient of Determination for test data :  0.9431817896860873\n",
      "Mean Absolute Error :  0.036060340412836636\n",
      "Mean Squared Error :  0.008959720286480496\n",
      "Root Mean Squared Error :  0.094655799011368\n",
      "R2 Score :  0.9431817896860873\n"
     ]
    }
   ],
   "source": [
    "mae =  mean_absolute_error(Y1_test, Y_rf1)\n",
    "mse = mean_squared_error(Y1_test, Y_rf1)\n",
    "r2score = r2_score(Y1_test, Y_rf1)\n",
    "\n",
    "print(\"Coefficient of Determination for train data : \",rf1.score(X1_train, Y1_train))\n",
    "print(\"Coefficient of Determination for test data : \",rf1.score(X1_test, Y1_test))\n",
    "print(\"Mean Absolute Error : \", mae)\n",
    "print(\"Mean Squared Error : \", mse) \n",
    "print(\"Root Mean Squared Error : \", np.sqrt(mse))\n",
    "print(\"R2 Score : \", r2score) "
   ]
  },
  {
   "cell_type": "markdown",
   "id": "68525170",
   "metadata": {},
   "source": [
    "#### for data_with_area"
   ]
  },
  {
   "cell_type": "code",
   "execution_count": 87,
   "id": "fdc37bf9",
   "metadata": {},
   "outputs": [
    {
     "name": "stdout",
     "output_type": "stream",
     "text": [
      "Coefficient of Determination for train data :  0.9841687084865092\n",
      "Coefficient of Determination for test data :  0.8872175242392644\n",
      "Mean Absolute Error :  0.058766066252072584\n",
      "Mean Squared Error :  0.017676353319716568\n",
      "Root Mean Squared Error :  0.13295244758828836\n",
      "R2 Score :  0.8872175242392644\n"
     ]
    }
   ],
   "source": [
    "mae =  mean_absolute_error(Y2_test, Y_rf2)\n",
    "mse = mean_squared_error(Y2_test, Y_rf2)\n",
    "r2score = r2_score(Y2_test, Y_rf2)\n",
    "\n",
    "print(\"Coefficient of Determination for train data : \",rf2.score(X2_train, Y2_train))\n",
    "print(\"Coefficient of Determination for test data : \",rf2.score(X2_test, Y2_test))\n",
    "print(\"Mean Absolute Error : \", mae)\n",
    "print(\"Mean Squared Error : \", mse) \n",
    "print(\"Root Mean Squared Error : \", np.sqrt(mse))\n",
    "print(\"R2 Score : \", r2score) "
   ]
  },
  {
   "cell_type": "markdown",
   "id": "177a7ff6",
   "metadata": {},
   "source": [
    "### Decision Tree Regression Model"
   ]
  },
  {
   "cell_type": "markdown",
   "id": "2276f207",
   "metadata": {},
   "source": [
    "#### for data_with_location"
   ]
  },
  {
   "cell_type": "code",
   "execution_count": 88,
   "id": "14dd4770",
   "metadata": {},
   "outputs": [
    {
     "name": "stdout",
     "output_type": "stream",
     "text": [
      "Coefficient of Determination for train data :  0.998763195049567\n",
      "Coefficient of Determination for test data :  0.9154374828223509\n",
      "Mean Absolute Error :  0.0256272750547718\n",
      "Mean Squared Error :  0.013334747723423378\n",
      "Root Mean Squared Error :  0.11547617816425766\n",
      "R2 Score :  0.9154374828223509\n"
     ]
    }
   ],
   "source": [
    "mae =  mean_absolute_error(Y1_test, Y_dt1)\n",
    "mse = mean_squared_error(Y1_test, Y_dt1)\n",
    "r2score = r2_score(Y1_test, Y_dt1)\n",
    "\n",
    "print(\"Coefficient of Determination for train data : \",dt1.score(X1_train, Y1_train))\n",
    "print(\"Coefficient of Determination for test data : \",dt1.score(X1_test, Y1_test))\n",
    "print(\"Mean Absolute Error : \", mae)\n",
    "print(\"Mean Squared Error : \", mse) \n",
    "print(\"Root Mean Squared Error : \", np.sqrt(mse))\n",
    "print(\"R2 Score : \", r2score) "
   ]
  },
  {
   "cell_type": "markdown",
   "id": "d44f9b66",
   "metadata": {},
   "source": [
    "#### for data_with_area"
   ]
  },
  {
   "cell_type": "code",
   "execution_count": 89,
   "id": "0ae75b76",
   "metadata": {},
   "outputs": [
    {
     "name": "stdout",
     "output_type": "stream",
     "text": [
      "Coefficient of Determination for train data :  0.9992833408296304\n",
      "Coefficient of Determination for test data :  0.8314101157751395\n",
      "Mean Absolute Error :  0.0446743937067134\n",
      "Mean Squared Error :  0.02642302662348745\n",
      "Root Mean Squared Error :  0.16255161218359987\n",
      "R2 Score :  0.8314101157751395\n"
     ]
    }
   ],
   "source": [
    "mae =  mean_absolute_error(Y2_test, Y_dt2)\n",
    "mse = mean_squared_error(Y2_test, Y_dt2)\n",
    "r2score = r2_score(Y2_test, Y_dt2)\n",
    "\n",
    "\n",
    "print(\"Coefficient of Determination for train data : \",dt2.score(X2_train, Y2_train))\n",
    "print(\"Coefficient of Determination for test data : \",dt2.score(X2_test, Y2_test))\n",
    "print(\"Mean Absolute Error : \", mae)\n",
    "print(\"Mean Squared Error : \", mse) \n",
    "print(\"Root Mean Squared Error : \", np.sqrt(mse))\n",
    "print(\"R2 Score : \", r2score) "
   ]
  },
  {
   "cell_type": "markdown",
   "id": "f069d756",
   "metadata": {},
   "source": [
    "<b><h3>Conclusion:</h3></b>\n",
    "<ul>\n",
    "<li>Three models had been trained, namely Multiple Linear Regression, Random Forest Regression and Decision Tree Regression respectively.\n",
    "<li>Based on the analysis, the best model for prediction is Random Forest Regression Model.\n",
    "    <li>We will be using <b>Random Forest Regression Model for data with location</b> for our prediction system.\n",
    "<li> The Accuracy of the selected model is 91%.\n",
    "</ul>"
   ]
  },
  {
   "cell_type": "markdown",
   "id": "b473dd07",
   "metadata": {},
   "source": [
    "## Saving the Model"
   ]
  },
  {
   "cell_type": "code",
   "execution_count": 90,
   "id": "b9fd31cc",
   "metadata": {},
   "outputs": [],
   "source": [
    "import pickle"
   ]
  },
  {
   "cell_type": "code",
   "execution_count": 91,
   "id": "87b0c40f",
   "metadata": {},
   "outputs": [],
   "source": [
    "with open('rate_predict.pkl', 'wb') as file:\n",
    "    pickle.dump(rf1, file)"
   ]
  }
 ],
 "metadata": {
  "kernelspec": {
   "display_name": "Python 3",
   "language": "python",
   "name": "python3"
  },
  "language_info": {
   "codemirror_mode": {
    "name": "ipython",
    "version": 3
   },
   "file_extension": ".py",
   "mimetype": "text/x-python",
   "name": "python",
   "nbconvert_exporter": "python",
   "pygments_lexer": "ipython3",
   "version": "3.9.7"
  }
 },
 "nbformat": 4,
 "nbformat_minor": 5
}
